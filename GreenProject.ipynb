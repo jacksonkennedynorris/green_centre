{
 "cells": [
  {
   "cell_type": "code",
   "execution_count": 1,
   "metadata": {},
   "outputs": [],
   "source": [
    "import pandas as pd \n",
    "import seaborn as sns\n",
    "import matplotlib.pyplot as plt"
   ]
  },
  {
   "cell_type": "code",
   "execution_count": 2,
   "metadata": {},
   "outputs": [],
   "source": [
    "def rename_cols(dataframe,building): \n",
    "    dataframe.rename(columns = {\"kWh\": str(building+\"_kWh\"),\"kW\": str(building + \"_kW\")},inplace = True)\n",
    "    dataframe.head()"
   ]
  },
  {
   "cell_type": "code",
   "execution_count": 3,
   "metadata": {},
   "outputs": [],
   "source": [
    "def assert_string(dataframe):\n",
    "    print(type(dataframe[\"Read Date\"][0]).__name__)\n",
    "    assert(type(dataframe[\"Read Date\"][0]).__name__==\"str\")"
   ]
  },
  {
   "cell_type": "code",
   "execution_count": 4,
   "metadata": {},
   "outputs": [],
   "source": [
    "def add_name(dataframe,building):\n",
    "    dataframe['building'] = building"
   ]
  },
  {
   "cell_type": "code",
   "execution_count": 5,
   "metadata": {},
   "outputs": [],
   "source": [
    "def plot_daily_data(dataframe): \n",
    "    day = [i for i in range(len(dataframe))]\n",
    "    plt.bar(day,dataframe.kW)\n",
    "    plt.show()"
   ]
  },
  {
   "cell_type": "code",
   "execution_count": 6,
   "metadata": {},
   "outputs": [],
   "source": [
    "def plot_daily_data_capacity(dataframe,capacity):\n",
    "    day = [i for i in range(len(dataframe))]\n",
    "    plt.bar(day,dataframe.kW/capacity)\n",
    "    plt.show()"
   ]
  },
  {
   "cell_type": "code",
   "execution_count": 7,
   "metadata": {},
   "outputs": [
    {
     "data": {
      "text/html": [
       "<div>\n",
       "<style scoped>\n",
       "    .dataframe tbody tr th:only-of-type {\n",
       "        vertical-align: middle;\n",
       "    }\n",
       "\n",
       "    .dataframe tbody tr th {\n",
       "        vertical-align: top;\n",
       "    }\n",
       "\n",
       "    .dataframe thead th {\n",
       "        text-align: right;\n",
       "    }\n",
       "</style>\n",
       "<table border=\"1\" class=\"dataframe\">\n",
       "  <thead>\n",
       "    <tr style=\"text-align: right;\">\n",
       "      <th></th>\n",
       "      <th>Read Date</th>\n",
       "      <th>kWh</th>\n",
       "      <th>kW</th>\n",
       "    </tr>\n",
       "  </thead>\n",
       "  <tbody>\n",
       "    <tr>\n",
       "      <th>0</th>\n",
       "      <td>1/1/2020 12:00:00 AM</td>\n",
       "      <td>662.0000</td>\n",
       "      <td>28.8</td>\n",
       "    </tr>\n",
       "    <tr>\n",
       "      <th>1</th>\n",
       "      <td>1/2/2020 12:00:00 AM</td>\n",
       "      <td>679.4000</td>\n",
       "      <td>32.8</td>\n",
       "    </tr>\n",
       "    <tr>\n",
       "      <th>2</th>\n",
       "      <td>1/4/2020 12:00:00 AM</td>\n",
       "      <td>660.2000</td>\n",
       "      <td>28.8</td>\n",
       "    </tr>\n",
       "    <tr>\n",
       "      <th>3</th>\n",
       "      <td>1/5/2020 12:00:00 AM</td>\n",
       "      <td>668.6000</td>\n",
       "      <td>28.8</td>\n",
       "    </tr>\n",
       "    <tr>\n",
       "      <th>4</th>\n",
       "      <td>1/6/2020 12:00:00 AM</td>\n",
       "      <td>679.0000</td>\n",
       "      <td>32.0</td>\n",
       "    </tr>\n",
       "    <tr>\n",
       "      <th>...</th>\n",
       "      <td>...</td>\n",
       "      <td>...</td>\n",
       "      <td>...</td>\n",
       "    </tr>\n",
       "    <tr>\n",
       "      <th>816</th>\n",
       "      <td>4/29/2021 12:00:00 AM</td>\n",
       "      <td>2,618.6001</td>\n",
       "      <td>132.8</td>\n",
       "    </tr>\n",
       "    <tr>\n",
       "      <th>818</th>\n",
       "      <td>4/30/2021 12:00:00 AM</td>\n",
       "      <td>2,341.2000</td>\n",
       "      <td>108.8</td>\n",
       "    </tr>\n",
       "    <tr>\n",
       "      <th>820</th>\n",
       "      <td>5/1/2021 12:00:00 AM</td>\n",
       "      <td>2,118.3999</td>\n",
       "      <td>104.0</td>\n",
       "    </tr>\n",
       "    <tr>\n",
       "      <th>822</th>\n",
       "      <td>5/2/2021 12:00:00 AM</td>\n",
       "      <td>2,290.3999</td>\n",
       "      <td>106.4</td>\n",
       "    </tr>\n",
       "    <tr>\n",
       "      <th>824</th>\n",
       "      <td>5/3/2021 12:00:00 AM</td>\n",
       "      <td>2,696.3201</td>\n",
       "      <td>135.2</td>\n",
       "    </tr>\n",
       "  </tbody>\n",
       "</table>\n",
       "<p>488 rows × 3 columns</p>\n",
       "</div>"
      ],
      "text/plain": [
       "                 Read Date         kWh     kW\n",
       "0     1/1/2020 12:00:00 AM    662.0000   28.8\n",
       "1     1/2/2020 12:00:00 AM    679.4000   32.8\n",
       "2     1/4/2020 12:00:00 AM    660.2000   28.8\n",
       "3     1/5/2020 12:00:00 AM    668.6000   28.8\n",
       "4     1/6/2020 12:00:00 AM    679.0000   32.0\n",
       "..                     ...         ...    ...\n",
       "816  4/29/2021 12:00:00 AM  2,618.6001  132.8\n",
       "818  4/30/2021 12:00:00 AM  2,341.2000  108.8\n",
       "820   5/1/2021 12:00:00 AM  2,118.3999  104.0\n",
       "822   5/2/2021 12:00:00 AM  2,290.3999  106.4\n",
       "824   5/3/2021 12:00:00 AM  2,696.3201  135.2\n",
       "\n",
       "[488 rows x 3 columns]"
      ]
     },
     "execution_count": 7,
     "metadata": {},
     "output_type": "execute_result"
    }
   ],
   "source": [
    "olin = pd.read_csv(\"olin_daily.csv\")\n",
    "#rename_cols(olin,\"olin\")\n",
    "day = [i for i in range(len(olin['Read Date']))]\n",
    "olin = olin[olin.kW.notnull()]\n",
    "olin"
   ]
  },
  {
   "cell_type": "code",
   "execution_count": 8,
   "metadata": {
    "scrolled": true
   },
   "outputs": [
    {
     "data": {
      "image/png": "[encoded data removed]",
      "text/plain": [
       "<Figure size 432x288 with 1 Axes>"
      ]
     },
     "metadata": {
      "needs_background": "light"
     },
     "output_type": "display_data"
    }
   ],
   "source": [
    "plot_daily_data(olin)"
   ]
  },
  {
   "cell_type": "code",
   "execution_count": 9,
   "metadata": {
    "scrolled": false
   },
   "outputs": [
    {
     "data": {
      "text/html": [
       "<div>\n",
       "<style scoped>\n",
       "    .dataframe tbody tr th:only-of-type {\n",
       "        vertical-align: middle;\n",
       "    }\n",
       "\n",
       "    .dataframe tbody tr th {\n",
       "        vertical-align: top;\n",
       "    }\n",
       "\n",
       "    .dataframe thead th {\n",
       "        text-align: right;\n",
       "    }\n",
       "</style>\n",
       "<table border=\"1\" class=\"dataframe\">\n",
       "  <thead>\n",
       "    <tr style=\"text-align: right;\">\n",
       "      <th></th>\n",
       "      <th>Read Date</th>\n",
       "      <th>kWh</th>\n",
       "      <th>kW</th>\n",
       "    </tr>\n",
       "  </thead>\n",
       "  <tbody>\n",
       "    <tr>\n",
       "      <th>328</th>\n",
       "      <td>8/30/2020 12:00:00 AM</td>\n",
       "      <td>1,138.0601</td>\n",
       "      <td>59.20</td>\n",
       "    </tr>\n",
       "    <tr>\n",
       "      <th>330</th>\n",
       "      <td>8/31/2020 12:00:00 AM</td>\n",
       "      <td>1,357.5601</td>\n",
       "      <td>80.80</td>\n",
       "    </tr>\n",
       "    <tr>\n",
       "      <th>332</th>\n",
       "      <td>9/1/2020 12:00:00 AM</td>\n",
       "      <td>1,446.4600</td>\n",
       "      <td>83.20</td>\n",
       "    </tr>\n",
       "    <tr>\n",
       "      <th>334</th>\n",
       "      <td>9/2/2020 12:00:00 AM</td>\n",
       "      <td>1,462.1000</td>\n",
       "      <td>85.60</td>\n",
       "    </tr>\n",
       "    <tr>\n",
       "      <th>336</th>\n",
       "      <td>9/3/2020 12:00:00 AM</td>\n",
       "      <td>1,402.3000</td>\n",
       "      <td>86.40</td>\n",
       "    </tr>\n",
       "    <tr>\n",
       "      <th>338</th>\n",
       "      <td>9/4/2020 12:00:00 AM</td>\n",
       "      <td>1,301.4800</td>\n",
       "      <td>72.80</td>\n",
       "    </tr>\n",
       "    <tr>\n",
       "      <th>340</th>\n",
       "      <td>9/5/2020 12:00:00 AM</td>\n",
       "      <td>1,106.3600</td>\n",
       "      <td>67.20</td>\n",
       "    </tr>\n",
       "    <tr>\n",
       "      <th>342</th>\n",
       "      <td>9/6/2020 12:00:00 AM</td>\n",
       "      <td>1,139.0400</td>\n",
       "      <td>63.20</td>\n",
       "    </tr>\n",
       "    <tr>\n",
       "      <th>344</th>\n",
       "      <td>9/7/2020 12:00:00 AM</td>\n",
       "      <td>1,418.0200</td>\n",
       "      <td>89.60</td>\n",
       "    </tr>\n",
       "    <tr>\n",
       "      <th>346</th>\n",
       "      <td>9/8/2020 12:00:00 AM</td>\n",
       "      <td>1,388.5200</td>\n",
       "      <td>80.00</td>\n",
       "    </tr>\n",
       "    <tr>\n",
       "      <th>348</th>\n",
       "      <td>9/9/2020 12:00:00 AM</td>\n",
       "      <td>1,405.4800</td>\n",
       "      <td>81.52</td>\n",
       "    </tr>\n",
       "    <tr>\n",
       "      <th>350</th>\n",
       "      <td>9/10/2020 12:00:00 AM</td>\n",
       "      <td>1,417.9200</td>\n",
       "      <td>84.00</td>\n",
       "    </tr>\n",
       "    <tr>\n",
       "      <th>352</th>\n",
       "      <td>9/11/2020 12:00:00 AM</td>\n",
       "      <td>1,303.0400</td>\n",
       "      <td>74.40</td>\n",
       "    </tr>\n",
       "    <tr>\n",
       "      <th>354</th>\n",
       "      <td>9/12/2020 12:00:00 AM</td>\n",
       "      <td>1,120.8800</td>\n",
       "      <td>56.72</td>\n",
       "    </tr>\n",
       "    <tr>\n",
       "      <th>356</th>\n",
       "      <td>9/13/2020 12:00:00 AM</td>\n",
       "      <td>1,081.7400</td>\n",
       "      <td>54.40</td>\n",
       "    </tr>\n",
       "    <tr>\n",
       "      <th>358</th>\n",
       "      <td>9/14/2020 12:00:00 AM</td>\n",
       "      <td>1,065.2600</td>\n",
       "      <td>77.60</td>\n",
       "    </tr>\n",
       "    <tr>\n",
       "      <th>360</th>\n",
       "      <td>9/15/2020 12:00:00 AM</td>\n",
       "      <td>1,244.9000</td>\n",
       "      <td>72.80</td>\n",
       "    </tr>\n",
       "    <tr>\n",
       "      <th>362</th>\n",
       "      <td>9/16/2020 12:00:00 AM</td>\n",
       "      <td>1,242.8201</td>\n",
       "      <td>70.40</td>\n",
       "    </tr>\n",
       "    <tr>\n",
       "      <th>364</th>\n",
       "      <td>9/17/2020 12:00:00 AM</td>\n",
       "      <td>1,288.0800</td>\n",
       "      <td>76.00</td>\n",
       "    </tr>\n",
       "    <tr>\n",
       "      <th>366</th>\n",
       "      <td>9/18/2020 12:00:00 AM</td>\n",
       "      <td>1,194.4000</td>\n",
       "      <td>69.52</td>\n",
       "    </tr>\n",
       "  </tbody>\n",
       "</table>\n",
       "</div>"
      ],
      "text/plain": [
       "                 Read Date         kWh     kW\n",
       "328  8/30/2020 12:00:00 AM  1,138.0601  59.20\n",
       "330  8/31/2020 12:00:00 AM  1,357.5601  80.80\n",
       "332   9/1/2020 12:00:00 AM  1,446.4600  83.20\n",
       "334   9/2/2020 12:00:00 AM  1,462.1000  85.60\n",
       "336   9/3/2020 12:00:00 AM  1,402.3000  86.40\n",
       "338   9/4/2020 12:00:00 AM  1,301.4800  72.80\n",
       "340   9/5/2020 12:00:00 AM  1,106.3600  67.20\n",
       "342   9/6/2020 12:00:00 AM  1,139.0400  63.20\n",
       "344   9/7/2020 12:00:00 AM  1,418.0200  89.60\n",
       "346   9/8/2020 12:00:00 AM  1,388.5200  80.00\n",
       "348   9/9/2020 12:00:00 AM  1,405.4800  81.52\n",
       "350  9/10/2020 12:00:00 AM  1,417.9200  84.00\n",
       "352  9/11/2020 12:00:00 AM  1,303.0400  74.40\n",
       "354  9/12/2020 12:00:00 AM  1,120.8800  56.72\n",
       "356  9/13/2020 12:00:00 AM  1,081.7400  54.40\n",
       "358  9/14/2020 12:00:00 AM  1,065.2600  77.60\n",
       "360  9/15/2020 12:00:00 AM  1,244.9000  72.80\n",
       "362  9/16/2020 12:00:00 AM  1,242.8201  70.40\n",
       "364  9/17/2020 12:00:00 AM  1,288.0800  76.00\n",
       "366  9/18/2020 12:00:00 AM  1,194.4000  69.52"
      ]
     },
     "execution_count": 9,
     "metadata": {},
     "output_type": "execute_result"
    }
   ],
   "source": [
    "old_centre = pd.read_csv(\"old_centre_daily.csv\")\n",
    "#rename_cols(old_centre,\"old_centre\")\n",
    "old_centre = old_centre[old_centre.kW.notnull()]\n",
    "old_centre = old_centre[181:]\n",
    "old_centre[60:80]"
   ]
  },
  {
   "cell_type": "code",
   "execution_count": 10,
   "metadata": {
    "scrolled": false
   },
   "outputs": [
    {
     "data": {
      "image/png": "[encoded data removed]",
      "text/plain": [
       "<Figure size 432x288 with 1 Axes>"
      ]
     },
     "metadata": {
      "needs_background": "light"
     },
     "output_type": "display_data"
    }
   ],
   "source": [
    "plot_daily_data(old_centre)"
   ]
  },
  {
   "cell_type": "code",
   "execution_count": 11,
   "metadata": {
    "scrolled": true
   },
   "outputs": [
    {
     "name": "stdout",
     "output_type": "stream",
     "text": [
      "str\n"
     ]
    }
   ],
   "source": [
    "assert_string(olin)"
   ]
  },
  {
   "cell_type": "code",
   "execution_count": 12,
   "metadata": {},
   "outputs": [
    {
     "data": {
      "text/html": [
       "<div>\n",
       "<style scoped>\n",
       "    .dataframe tbody tr th:only-of-type {\n",
       "        vertical-align: middle;\n",
       "    }\n",
       "\n",
       "    .dataframe tbody tr th {\n",
       "        vertical-align: top;\n",
       "    }\n",
       "\n",
       "    .dataframe thead th {\n",
       "        text-align: right;\n",
       "    }\n",
       "</style>\n",
       "<table border=\"1\" class=\"dataframe\">\n",
       "  <thead>\n",
       "    <tr style=\"text-align: right;\">\n",
       "      <th></th>\n",
       "      <th>Read Date</th>\n",
       "      <th>kWh</th>\n",
       "      <th>kW</th>\n",
       "    </tr>\n",
       "  </thead>\n",
       "  <tbody>\n",
       "    <tr>\n",
       "      <th>0</th>\n",
       "      <td>1/1/2020 12:00:00 AM</td>\n",
       "      <td>385.80</td>\n",
       "      <td>29.6</td>\n",
       "    </tr>\n",
       "    <tr>\n",
       "      <th>1</th>\n",
       "      <td>1/2/2020 12:00:00 AM</td>\n",
       "      <td>343.20</td>\n",
       "      <td>21.6</td>\n",
       "    </tr>\n",
       "    <tr>\n",
       "      <th>2</th>\n",
       "      <td>1/4/2020 12:00:00 AM</td>\n",
       "      <td>346.00</td>\n",
       "      <td>18.4</td>\n",
       "    </tr>\n",
       "    <tr>\n",
       "      <th>3</th>\n",
       "      <td>1/5/2020 12:00:00 AM</td>\n",
       "      <td>351.40</td>\n",
       "      <td>18.4</td>\n",
       "    </tr>\n",
       "    <tr>\n",
       "      <th>4</th>\n",
       "      <td>1/6/2020 12:00:00 AM</td>\n",
       "      <td>415.80</td>\n",
       "      <td>24.8</td>\n",
       "    </tr>\n",
       "    <tr>\n",
       "      <th>...</th>\n",
       "      <td>...</td>\n",
       "      <td>...</td>\n",
       "      <td>...</td>\n",
       "    </tr>\n",
       "    <tr>\n",
       "      <th>876</th>\n",
       "      <td>4/29/2021 12:00:00 AM</td>\n",
       "      <td>829.54</td>\n",
       "      <td>NaN</td>\n",
       "    </tr>\n",
       "    <tr>\n",
       "      <th>879</th>\n",
       "      <td>4/30/2021 12:00:00 AM</td>\n",
       "      <td>482.60</td>\n",
       "      <td>NaN</td>\n",
       "    </tr>\n",
       "    <tr>\n",
       "      <th>882</th>\n",
       "      <td>5/1/2021 12:00:00 AM</td>\n",
       "      <td>376.80</td>\n",
       "      <td>NaN</td>\n",
       "    </tr>\n",
       "    <tr>\n",
       "      <th>885</th>\n",
       "      <td>5/2/2021 12:00:00 AM</td>\n",
       "      <td>391.60</td>\n",
       "      <td>NaN</td>\n",
       "    </tr>\n",
       "    <tr>\n",
       "      <th>888</th>\n",
       "      <td>5/3/2021 12:00:00 AM</td>\n",
       "      <td>564.14</td>\n",
       "      <td>NaN</td>\n",
       "    </tr>\n",
       "  </tbody>\n",
       "</table>\n",
       "<p>488 rows × 3 columns</p>\n",
       "</div>"
      ],
      "text/plain": [
       "                 Read Date     kWh    kW\n",
       "0     1/1/2020 12:00:00 AM  385.80  29.6\n",
       "1     1/2/2020 12:00:00 AM  343.20  21.6\n",
       "2     1/4/2020 12:00:00 AM  346.00  18.4\n",
       "3     1/5/2020 12:00:00 AM  351.40  18.4\n",
       "4     1/6/2020 12:00:00 AM  415.80  24.8\n",
       "..                     ...     ...   ...\n",
       "876  4/29/2021 12:00:00 AM  829.54   NaN\n",
       "879  4/30/2021 12:00:00 AM  482.60   NaN\n",
       "882   5/1/2021 12:00:00 AM  376.80   NaN\n",
       "885   5/2/2021 12:00:00 AM  391.60   NaN\n",
       "888   5/3/2021 12:00:00 AM  564.14   NaN\n",
       "\n",
       "[488 rows x 3 columns]"
      ]
     },
     "execution_count": 12,
     "metadata": {},
     "output_type": "execute_result"
    }
   ],
   "source": [
    "jvac = pd.read_csv(\"jvac_daily.csv\")\n",
    "jvac = jvac[jvac.kWh > 2]\n",
    "jvac"
   ]
  },
  {
   "cell_type": "code",
   "execution_count": 13,
   "metadata": {
    "scrolled": false
   },
   "outputs": [
    {
     "data": {
      "image/png": "[encoded data removed]",
      "text/plain": [
       "<Figure size 432x288 with 1 Axes>"
      ]
     },
     "metadata": {
      "needs_background": "light"
     },
     "output_type": "display_data"
    }
   ],
   "source": [
    "plot_daily_data(jvac)"
   ]
  },
  {
   "cell_type": "code",
   "execution_count": 14,
   "metadata": {
    "scrolled": true
   },
   "outputs": [
    {
     "data": {
      "text/html": [
       "<div>\n",
       "<style scoped>\n",
       "    .dataframe tbody tr th:only-of-type {\n",
       "        vertical-align: middle;\n",
       "    }\n",
       "\n",
       "    .dataframe tbody tr th {\n",
       "        vertical-align: top;\n",
       "    }\n",
       "\n",
       "    .dataframe thead th {\n",
       "        text-align: right;\n",
       "    }\n",
       "</style>\n",
       "<table border=\"1\" class=\"dataframe\">\n",
       "  <thead>\n",
       "    <tr style=\"text-align: right;\">\n",
       "      <th></th>\n",
       "      <th>Read Date</th>\n",
       "      <th>kWh</th>\n",
       "      <th>kW</th>\n",
       "    </tr>\n",
       "  </thead>\n",
       "  <tbody>\n",
       "    <tr>\n",
       "      <th>0</th>\n",
       "      <td>1/1/2020 12:00:00 AM</td>\n",
       "      <td>431.9640</td>\n",
       "      <td>24.432</td>\n",
       "    </tr>\n",
       "    <tr>\n",
       "      <th>1</th>\n",
       "      <td>1/2/2020 12:00:00 AM</td>\n",
       "      <td>441.0360</td>\n",
       "      <td>23.040</td>\n",
       "    </tr>\n",
       "    <tr>\n",
       "      <th>3</th>\n",
       "      <td>1/4/2020 12:00:00 AM</td>\n",
       "      <td>435.3600</td>\n",
       "      <td>28.800</td>\n",
       "    </tr>\n",
       "    <tr>\n",
       "      <th>4</th>\n",
       "      <td>1/5/2020 12:00:00 AM</td>\n",
       "      <td>432.3120</td>\n",
       "      <td>22.080</td>\n",
       "    </tr>\n",
       "    <tr>\n",
       "      <th>5</th>\n",
       "      <td>1/6/2020 12:00:00 AM</td>\n",
       "      <td>456.8280</td>\n",
       "      <td>25.920</td>\n",
       "    </tr>\n",
       "    <tr>\n",
       "      <th>...</th>\n",
       "      <td>...</td>\n",
       "      <td>...</td>\n",
       "      <td>...</td>\n",
       "    </tr>\n",
       "    <tr>\n",
       "      <th>817</th>\n",
       "      <td>4/29/2021 12:00:00 AM</td>\n",
       "      <td>486.7320</td>\n",
       "      <td>45.120</td>\n",
       "    </tr>\n",
       "    <tr>\n",
       "      <th>819</th>\n",
       "      <td>4/30/2021 12:00:00 AM</td>\n",
       "      <td>369.5760</td>\n",
       "      <td>32.160</td>\n",
       "    </tr>\n",
       "    <tr>\n",
       "      <th>821</th>\n",
       "      <td>5/1/2021 12:00:00 AM</td>\n",
       "      <td>418.9200</td>\n",
       "      <td>31.680</td>\n",
       "    </tr>\n",
       "    <tr>\n",
       "      <th>823</th>\n",
       "      <td>5/2/2021 12:00:00 AM</td>\n",
       "      <td>420.8400</td>\n",
       "      <td>35.520</td>\n",
       "    </tr>\n",
       "    <tr>\n",
       "      <th>825</th>\n",
       "      <td>5/3/2021 12:00:00 AM</td>\n",
       "      <td>493.0560</td>\n",
       "      <td>36.000</td>\n",
       "    </tr>\n",
       "  </tbody>\n",
       "</table>\n",
       "<p>487 rows × 3 columns</p>\n",
       "</div>"
      ],
      "text/plain": [
       "                 Read Date       kWh      kW\n",
       "0     1/1/2020 12:00:00 AM  431.9640  24.432\n",
       "1     1/2/2020 12:00:00 AM  441.0360  23.040\n",
       "3     1/4/2020 12:00:00 AM  435.3600  28.800\n",
       "4     1/5/2020 12:00:00 AM  432.3120  22.080\n",
       "5     1/6/2020 12:00:00 AM  456.8280  25.920\n",
       "..                     ...       ...     ...\n",
       "817  4/29/2021 12:00:00 AM  486.7320  45.120\n",
       "819  4/30/2021 12:00:00 AM  369.5760  32.160\n",
       "821   5/1/2021 12:00:00 AM  418.9200  31.680\n",
       "823   5/2/2021 12:00:00 AM  420.8400  35.520\n",
       "825   5/3/2021 12:00:00 AM  493.0560  36.000\n",
       "\n",
       "[487 rows x 3 columns]"
      ]
     },
     "execution_count": 14,
     "metadata": {},
     "output_type": "execute_result"
    }
   ],
   "source": [
    "warehouse = pd.read_csv(\"warehouse_daily.csv\")\n",
    "warehouse = warehouse[warehouse.kWh > str(2)]\n",
    "warehouse = warehouse[warehouse.kW < 300]\n",
    "warehouse"
   ]
  },
  {
   "cell_type": "code",
   "execution_count": 15,
   "metadata": {
    "scrolled": false
   },
   "outputs": [
    {
     "data": {
      "image/png": "[encoded data removed]",
      "text/plain": [
       "<Figure size 432x288 with 1 Axes>"
      ]
     },
     "metadata": {
      "needs_background": "light"
     },
     "output_type": "display_data"
    }
   ],
   "source": [
    "plot_daily_data(warehouse)"
   ]
  },
  {
   "cell_type": "code",
   "execution_count": 16,
   "metadata": {
    "scrolled": true
   },
   "outputs": [
    {
     "data": {
      "text/html": [
       "<div>\n",
       "<style scoped>\n",
       "    .dataframe tbody tr th:only-of-type {\n",
       "        vertical-align: middle;\n",
       "    }\n",
       "\n",
       "    .dataframe tbody tr th {\n",
       "        vertical-align: top;\n",
       "    }\n",
       "\n",
       "    .dataframe thead th {\n",
       "        text-align: right;\n",
       "    }\n",
       "</style>\n",
       "<table border=\"1\" class=\"dataframe\">\n",
       "  <thead>\n",
       "    <tr style=\"text-align: right;\">\n",
       "      <th></th>\n",
       "      <th>Read Date</th>\n",
       "      <th>kWh</th>\n",
       "      <th>kW</th>\n",
       "    </tr>\n",
       "  </thead>\n",
       "  <tbody>\n",
       "    <tr>\n",
       "      <th>0</th>\n",
       "      <td>1/1/2020 12:00:00 AM</td>\n",
       "      <td>1,439.9760</td>\n",
       "      <td>80.640</td>\n",
       "    </tr>\n",
       "    <tr>\n",
       "      <th>1</th>\n",
       "      <td>1/2/2020 12:00:00 AM</td>\n",
       "      <td>1,325.8080</td>\n",
       "      <td>68.064</td>\n",
       "    </tr>\n",
       "    <tr>\n",
       "      <th>2</th>\n",
       "      <td>1/4/2020 12:00:00 AM</td>\n",
       "      <td>1,340.0880</td>\n",
       "      <td>71.040</td>\n",
       "    </tr>\n",
       "    <tr>\n",
       "      <th>3</th>\n",
       "      <td>1/5/2020 12:00:00 AM</td>\n",
       "      <td>1,432.7040</td>\n",
       "      <td>69.120</td>\n",
       "    </tr>\n",
       "    <tr>\n",
       "      <th>4</th>\n",
       "      <td>1/6/2020 12:00:00 AM</td>\n",
       "      <td>1,570.9921</td>\n",
       "      <td>101.760</td>\n",
       "    </tr>\n",
       "    <tr>\n",
       "      <th>...</th>\n",
       "      <td>...</td>\n",
       "      <td>...</td>\n",
       "      <td>...</td>\n",
       "    </tr>\n",
       "    <tr>\n",
       "      <th>816</th>\n",
       "      <td>4/29/2021 12:00:00 AM</td>\n",
       "      <td>1,966.9440</td>\n",
       "      <td>124.800</td>\n",
       "    </tr>\n",
       "    <tr>\n",
       "      <th>818</th>\n",
       "      <td>4/30/2021 12:00:00 AM</td>\n",
       "      <td>1,736.1121</td>\n",
       "      <td>128.640</td>\n",
       "    </tr>\n",
       "    <tr>\n",
       "      <th>820</th>\n",
       "      <td>5/1/2021 12:00:00 AM</td>\n",
       "      <td>1,674.6960</td>\n",
       "      <td>127.680</td>\n",
       "    </tr>\n",
       "    <tr>\n",
       "      <th>822</th>\n",
       "      <td>5/2/2021 12:00:00 AM</td>\n",
       "      <td>1,760.7360</td>\n",
       "      <td>107.520</td>\n",
       "    </tr>\n",
       "    <tr>\n",
       "      <th>824</th>\n",
       "      <td>5/3/2021 12:00:00 AM</td>\n",
       "      <td>1,938.4561</td>\n",
       "      <td>118.080</td>\n",
       "    </tr>\n",
       "  </tbody>\n",
       "</table>\n",
       "<p>488 rows × 3 columns</p>\n",
       "</div>"
      ],
      "text/plain": [
       "                 Read Date         kWh       kW\n",
       "0     1/1/2020 12:00:00 AM  1,439.9760   80.640\n",
       "1     1/2/2020 12:00:00 AM  1,325.8080   68.064\n",
       "2     1/4/2020 12:00:00 AM  1,340.0880   71.040\n",
       "3     1/5/2020 12:00:00 AM  1,432.7040   69.120\n",
       "4     1/6/2020 12:00:00 AM  1,570.9921  101.760\n",
       "..                     ...         ...      ...\n",
       "816  4/29/2021 12:00:00 AM  1,966.9440  124.800\n",
       "818  4/30/2021 12:00:00 AM  1,736.1121  128.640\n",
       "820   5/1/2021 12:00:00 AM  1,674.6960  127.680\n",
       "822   5/2/2021 12:00:00 AM  1,760.7360  107.520\n",
       "824   5/3/2021 12:00:00 AM  1,938.4561  118.080\n",
       "\n",
       "[488 rows x 3 columns]"
      ]
     },
     "execution_count": 16,
     "metadata": {},
     "output_type": "execute_result"
    }
   ],
   "source": [
    "pearl = pd.read_csv(\"pearl_daily.csv\")\n",
    "#rename_cols(pearl,\"pearl\")\n",
    "pearl = pearl[pearl.kW.notnull()]\n",
    "pearl"
   ]
  },
  {
   "cell_type": "code",
   "execution_count": 17,
   "metadata": {},
   "outputs": [
    {
     "data": {
      "image/png": "[encoded data removed]",
      "text/plain": [
       "<Figure size 432x288 with 1 Axes>"
      ]
     },
     "metadata": {
      "needs_background": "light"
     },
     "output_type": "display_data"
    }
   ],
   "source": [
    "plot_daily_data_capacity(pearl,148)"
   ]
  },
  {
   "cell_type": "code",
   "execution_count": 18,
   "metadata": {},
   "outputs": [
    {
     "data": {
      "text/html": [
       "<div>\n",
       "<style scoped>\n",
       "    .dataframe tbody tr th:only-of-type {\n",
       "        vertical-align: middle;\n",
       "    }\n",
       "\n",
       "    .dataframe tbody tr th {\n",
       "        vertical-align: top;\n",
       "    }\n",
       "\n",
       "    .dataframe thead th {\n",
       "        text-align: right;\n",
       "    }\n",
       "</style>\n",
       "<table border=\"1\" class=\"dataframe\">\n",
       "  <thead>\n",
       "    <tr style=\"text-align: right;\">\n",
       "      <th></th>\n",
       "      <th>Read Date</th>\n",
       "      <th>kWh</th>\n",
       "      <th>kW</th>\n",
       "    </tr>\n",
       "  </thead>\n",
       "  <tbody>\n",
       "    <tr>\n",
       "      <th>0</th>\n",
       "      <td>1/1/2020 12:00:00 AM</td>\n",
       "      <td>991.8840</td>\n",
       "      <td>44.640</td>\n",
       "    </tr>\n",
       "    <tr>\n",
       "      <th>1</th>\n",
       "      <td>1/2/2020 12:00:00 AM</td>\n",
       "      <td>930.1320</td>\n",
       "      <td>43.680</td>\n",
       "    </tr>\n",
       "    <tr>\n",
       "      <th>2</th>\n",
       "      <td>1/3/2020 12:00:00 AM</td>\n",
       "      <td>862.2360</td>\n",
       "      <td>40.320</td>\n",
       "    </tr>\n",
       "    <tr>\n",
       "      <th>3</th>\n",
       "      <td>1/4/2020 12:00:00 AM</td>\n",
       "      <td>1,003.2240</td>\n",
       "      <td>59.520</td>\n",
       "    </tr>\n",
       "    <tr>\n",
       "      <th>4</th>\n",
       "      <td>1/5/2020 12:00:00 AM</td>\n",
       "      <td>1,217.2321</td>\n",
       "      <td>66.240</td>\n",
       "    </tr>\n",
       "    <tr>\n",
       "      <th>...</th>\n",
       "      <td>...</td>\n",
       "      <td>...</td>\n",
       "      <td>...</td>\n",
       "    </tr>\n",
       "    <tr>\n",
       "      <th>817</th>\n",
       "      <td>4/29/2021 12:00:00 AM</td>\n",
       "      <td>1,275.9960</td>\n",
       "      <td>70.080</td>\n",
       "    </tr>\n",
       "    <tr>\n",
       "      <th>819</th>\n",
       "      <td>4/30/2021 12:00:00 AM</td>\n",
       "      <td>1,143.5520</td>\n",
       "      <td>59.520</td>\n",
       "    </tr>\n",
       "    <tr>\n",
       "      <th>821</th>\n",
       "      <td>5/1/2021 12:00:00 AM</td>\n",
       "      <td>1,070.7000</td>\n",
       "      <td>55.200</td>\n",
       "    </tr>\n",
       "    <tr>\n",
       "      <th>823</th>\n",
       "      <td>5/2/2021 12:00:00 AM</td>\n",
       "      <td>1,196.7000</td>\n",
       "      <td>65.760</td>\n",
       "    </tr>\n",
       "    <tr>\n",
       "      <th>825</th>\n",
       "      <td>5/3/2021 12:00:00 AM</td>\n",
       "      <td>1,244.8440</td>\n",
       "      <td>68.592</td>\n",
       "    </tr>\n",
       "  </tbody>\n",
       "</table>\n",
       "<p>489 rows × 3 columns</p>\n",
       "</div>"
      ],
      "text/plain": [
       "                 Read Date         kWh      kW\n",
       "0     1/1/2020 12:00:00 AM    991.8840  44.640\n",
       "1     1/2/2020 12:00:00 AM    930.1320  43.680\n",
       "2     1/3/2020 12:00:00 AM    862.2360  40.320\n",
       "3     1/4/2020 12:00:00 AM  1,003.2240  59.520\n",
       "4     1/5/2020 12:00:00 AM  1,217.2321  66.240\n",
       "..                     ...         ...     ...\n",
       "817  4/29/2021 12:00:00 AM  1,275.9960  70.080\n",
       "819  4/30/2021 12:00:00 AM  1,143.5520  59.520\n",
       "821   5/1/2021 12:00:00 AM  1,070.7000  55.200\n",
       "823   5/2/2021 12:00:00 AM  1,196.7000  65.760\n",
       "825   5/3/2021 12:00:00 AM  1,244.8440  68.592\n",
       "\n",
       "[489 rows x 3 columns]"
      ]
     },
     "execution_count": 18,
     "metadata": {},
     "output_type": "execute_result"
    }
   ],
   "source": [
    "breck = pd.read_csv(\"breck_daily.csv\")\n",
    "breck = breck[breck.kW.notnull()]\n",
    "breck"
   ]
  },
  {
   "cell_type": "code",
   "execution_count": 19,
   "metadata": {},
   "outputs": [
    {
     "data": {
      "image/png": "[encoded data removed]",
      "text/plain": [
       "<Figure size 432x288 with 1 Axes>"
      ]
     },
     "metadata": {
      "needs_background": "light"
     },
     "output_type": "display_data"
    }
   ],
   "source": [
    "plot_daily_data_capacity(breck,102)"
   ]
  },
  {
   "cell_type": "code",
   "execution_count": 20,
   "metadata": {},
   "outputs": [
    {
     "data": {
      "text/html": [
       "<div>\n",
       "<style scoped>\n",
       "    .dataframe tbody tr th:only-of-type {\n",
       "        vertical-align: middle;\n",
       "    }\n",
       "\n",
       "    .dataframe tbody tr th {\n",
       "        vertical-align: top;\n",
       "    }\n",
       "\n",
       "    .dataframe thead th {\n",
       "        text-align: right;\n",
       "    }\n",
       "</style>\n",
       "<table border=\"1\" class=\"dataframe\">\n",
       "  <thead>\n",
       "    <tr style=\"text-align: right;\">\n",
       "      <th></th>\n",
       "      <th>Read Date</th>\n",
       "      <th>kWh</th>\n",
       "      <th>kW</th>\n",
       "    </tr>\n",
       "  </thead>\n",
       "  <tbody>\n",
       "    <tr>\n",
       "      <th>0</th>\n",
       "      <td>1/1/2020 12:00:00 AM</td>\n",
       "      <td>792.2000</td>\n",
       "      <td>36.00</td>\n",
       "    </tr>\n",
       "    <tr>\n",
       "      <th>1</th>\n",
       "      <td>1/2/2020 12:00:00 AM</td>\n",
       "      <td>782.0600</td>\n",
       "      <td>36.80</td>\n",
       "    </tr>\n",
       "    <tr>\n",
       "      <th>2</th>\n",
       "      <td>1/4/2020 12:00:00 AM</td>\n",
       "      <td>776.4600</td>\n",
       "      <td>35.20</td>\n",
       "    </tr>\n",
       "    <tr>\n",
       "      <th>3</th>\n",
       "      <td>1/5/2020 12:00:00 AM</td>\n",
       "      <td>816.2400</td>\n",
       "      <td>49.60</td>\n",
       "    </tr>\n",
       "    <tr>\n",
       "      <th>4</th>\n",
       "      <td>1/6/2020 12:00:00 AM</td>\n",
       "      <td>927.6400</td>\n",
       "      <td>56.00</td>\n",
       "    </tr>\n",
       "    <tr>\n",
       "      <th>...</th>\n",
       "      <td>...</td>\n",
       "      <td>...</td>\n",
       "      <td>...</td>\n",
       "    </tr>\n",
       "    <tr>\n",
       "      <th>816</th>\n",
       "      <td>4/29/2021 12:00:00 AM</td>\n",
       "      <td>1,220.9800</td>\n",
       "      <td>65.60</td>\n",
       "    </tr>\n",
       "    <tr>\n",
       "      <th>818</th>\n",
       "      <td>4/30/2021 12:00:00 AM</td>\n",
       "      <td>1,185.0800</td>\n",
       "      <td>69.52</td>\n",
       "    </tr>\n",
       "    <tr>\n",
       "      <th>820</th>\n",
       "      <td>5/1/2021 12:00:00 AM</td>\n",
       "      <td>1,115.9800</td>\n",
       "      <td>62.40</td>\n",
       "    </tr>\n",
       "    <tr>\n",
       "      <th>822</th>\n",
       "      <td>5/2/2021 12:00:00 AM</td>\n",
       "      <td>1,155.4200</td>\n",
       "      <td>61.60</td>\n",
       "    </tr>\n",
       "    <tr>\n",
       "      <th>824</th>\n",
       "      <td>5/3/2021 12:00:00 AM</td>\n",
       "      <td>1,128.5200</td>\n",
       "      <td>62.40</td>\n",
       "    </tr>\n",
       "  </tbody>\n",
       "</table>\n",
       "<p>488 rows × 3 columns</p>\n",
       "</div>"
      ],
      "text/plain": [
       "                 Read Date         kWh     kW\n",
       "0     1/1/2020 12:00:00 AM    792.2000  36.00\n",
       "1     1/2/2020 12:00:00 AM    782.0600  36.80\n",
       "2     1/4/2020 12:00:00 AM    776.4600  35.20\n",
       "3     1/5/2020 12:00:00 AM    816.2400  49.60\n",
       "4     1/6/2020 12:00:00 AM    927.6400  56.00\n",
       "..                     ...         ...    ...\n",
       "816  4/29/2021 12:00:00 AM  1,220.9800  65.60\n",
       "818  4/30/2021 12:00:00 AM  1,185.0800  69.52\n",
       "820   5/1/2021 12:00:00 AM  1,115.9800  62.40\n",
       "822   5/2/2021 12:00:00 AM  1,155.4200  61.60\n",
       "824   5/3/2021 12:00:00 AM  1,128.5200  62.40\n",
       "\n",
       "[488 rows x 3 columns]"
      ]
     },
     "execution_count": 20,
     "metadata": {},
     "output_type": "execute_result"
    }
   ],
   "source": [
    "yerkes = pd.read_csv('yerkes_daily.csv')\n",
    "yerkes = yerkes[yerkes.kW.notnull()]\n",
    "yerkes"
   ]
  },
  {
   "cell_type": "code",
   "execution_count": 21,
   "metadata": {},
   "outputs": [
    {
     "data": {
      "image/png": "[encoded data removed]",
      "text/plain": [
       "<Figure size 432x288 with 1 Axes>"
      ]
     },
     "metadata": {
      "needs_background": "light"
     },
     "output_type": "display_data"
    }
   ],
   "source": [
    "plot_daily_data_capacity(yerkes,96)"
   ]
  },
  {
   "cell_type": "code",
   "execution_count": 22,
   "metadata": {},
   "outputs": [],
   "source": [
    "brock = pd.read_csv('brock_daily.csv')\n",
    "brock = brock[brock.kW.notnull()]\n",
    "brock.drop(586,inplace=True)"
   ]
  },
  {
   "cell_type": "code",
   "execution_count": 23,
   "metadata": {},
   "outputs": [
    {
     "data": {
      "image/png": "[encoded data removed]",
      "text/plain": [
       "<Figure size 432x288 with 1 Axes>"
      ]
     },
     "metadata": {
      "needs_background": "light"
     },
     "output_type": "display_data"
    }
   ],
   "source": [
    "plot_daily_data_capacity(brock,124)"
   ]
  }
 ],
 "metadata": {
  "kernelspec": {
   "display_name": "Python 3",
   "language": "python",
   "name": "python3"
  },
  "language_info": {
   "codemirror_mode": {
    "name": "ipython",
    "version": 3
   },
   "file_extension": ".py",
   "mimetype": "text/x-python",
   "name": "python",
   "nbconvert_exporter": "python",
   "pygments_lexer": "ipython3",
   "version": "3.8.5"
  }
 },
 "nbformat": 4,
 "nbformat_minor": 5
}
