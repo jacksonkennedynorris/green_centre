{
 "cells": [
  {
   "cell_type": "markdown",
   "metadata": {},
   "source": [
    "# DSC 305 Final Project: _Making Centre Greener_"
   ]
  },
  {
   "cell_type": "markdown",
   "metadata": {},
   "source": [
    "Jackson Norris\n",
    "\n",
    "Shelby Young and Kat Duarte\n",
    "\n",
    "DSC 305A S21\n",
    "\n",
    "Final Project: Making Centre Greener"
   ]
  },
  {
   "cell_type": "markdown",
   "metadata": {},
   "source": [
    "## Summary"
   ]
  },
  {
   "cell_type": "markdown",
   "metadata": {},
   "source": [
    "_Making Centre Greener_ is an exploration of the energy consumption of several buildings across Centre's campus. We took this project to provide advice and recommendations to the school about how to make campus improvements more energy efficient. In our data exploration we found that LEED certified buildings are not as energy efficient as Centre would have us think. This project challenged us to explore, study, and tell a story with data. "
   ]
  },
  {
   "cell_type": "markdown",
   "metadata": {},
   "source": [
    "<b> Import Necessary Packages </b>"
   ]
  },
  {
   "cell_type": "code",
   "execution_count": 1,
   "metadata": {},
   "outputs": [],
   "source": [
    "import pandas as pd \n",
    "import seaborn as sns\n",
    "import matplotlib.pyplot as plt\n",
    "import statsmodels.formula.api as smf\n",
    "import numpy as np"
   ]
  },
  {
   "cell_type": "markdown",
   "metadata": {},
   "source": [
    "## Data Exploration"
   ]
  },
  {
   "cell_type": "markdown",
   "metadata": {},
   "source": [
    "### Load in Temperature Data"
   ]
  },
  {
   "cell_type": "code",
   "execution_count": 2,
   "metadata": {},
   "outputs": [],
   "source": [
    "temp = pd.read_csv(\"temperature.csv\")"
   ]
  },
  {
   "cell_type": "markdown",
   "metadata": {},
   "source": [
    "We need to convert our data feature to a datetime to make merging with our building data easier. "
   ]
  },
  {
   "cell_type": "code",
   "execution_count": 3,
   "metadata": {},
   "outputs": [],
   "source": [
    "temp['Date'] = pd.to_datetime(temp['Date time'])"
   ]
  },
  {
   "cell_type": "markdown",
   "metadata": {},
   "source": [
    "Drop unnecessary columns. "
   ]
  },
  {
   "cell_type": "code",
   "execution_count": 4,
   "metadata": {},
   "outputs": [],
   "source": [
    "temp.drop(columns={\"Date time\",'Wind Chill','Heat Index','Precipitation','Snow','Snow Depth','Wind Speed',\n",
    "          'Wind Direction','Wind Gust', 'Visibility','Cloud Cover','Relative Humidity','Conditions', 'Name'}, inplace = True)"
   ]
  },
  {
   "cell_type": "markdown",
   "metadata": {},
   "source": [
    "Rename columns to our liking. "
   ]
  },
  {
   "cell_type": "code",
   "execution_count": 5,
   "metadata": {},
   "outputs": [],
   "source": [
    "temp.rename(columns={\"Maximum Temperature\":\"max_temp\",\"Minimum Temperature\":\"min_temp\",\n",
    "                     \"Temperature\":\"average_temp\"}, inplace=True)"
   ]
  },
  {
   "cell_type": "markdown",
   "metadata": {},
   "source": [
    "### Load In Building Data "
   ]
  },
  {
   "cell_type": "markdown",
   "metadata": {},
   "source": [
    "We saved CSV files of daily energy consumption for Pearl, Brock, Yerkes, and Breck. Pearl and Brock are both LEED Certified (Gold and Silver Respectively), and Yerkes and Breck are not LEED Certified. "
   ]
  },
  {
   "cell_type": "code",
   "execution_count": 6,
   "metadata": {},
   "outputs": [],
   "source": [
    "pearl = pd.read_csv(\"pearl_daily.csv\")\n",
    "breck = pd.read_csv(\"breck_daily.csv\")\n",
    "yerkes = pd.read_csv(\"yerkes_daily.csv\")\n",
    "brock = pd.read_csv(\"brock_daily.csv\")"
   ]
  },
  {
   "cell_type": "markdown",
   "metadata": {},
   "source": [
    "The following function will change the names of several features to make them easier to access. "
   ]
  },
  {
   "cell_type": "code",
   "execution_count": 7,
   "metadata": {},
   "outputs": [],
   "source": [
    "def rename_cols(dataframe): \n",
    "    dataframe.rename(columns = {\"Read Date\":\"date\",\"index\":\"day\"},inplace = True)"
   ]
  },
  {
   "cell_type": "markdown",
   "metadata": {},
   "source": [
    "The _add_occupancy_ function will provide a feature of approximate values for where or not the building was occupied. We said that the Summer and Winter breaks were unoccupied, Centreterm 2021 was 1/2 occupied, and the rest of the dates were occupied. In an ideal world we would have data from the Student Life Office to have data on exactly how many people lived in each building at that time. "
   ]
  },
  {
   "cell_type": "code",
   "execution_count": 8,
   "metadata": {},
   "outputs": [],
   "source": [
    "def add_occupancy(dataframe): \n",
    "    dataframe.loc[:,'occupied'] = 0\n",
    "    dataframe.loc[4:77,'occupied'] = 1\n",
    "    dataframe.loc[234:329,'occupied'] = 1\n",
    "    dataframe.loc[374:402,'occupied'] = 1/2\n",
    "    dataframe.loc[402:,'occupied'] = 1\n",
    "    return dataframe "
   ]
  },
  {
   "cell_type": "markdown",
   "metadata": {},
   "source": [
    "This function adds features for kilowatts per person, kilowatts per 1000 square feet, and then the week on which the day fell. "
   ]
  },
  {
   "cell_type": "code",
   "execution_count": 9,
   "metadata": {},
   "outputs": [],
   "source": [
    "def add_capacity_and_sqft(dataframe, capacity, sq_ft): \n",
    "    dataframe.loc[:,'kw_per_person'] = dataframe.kW/capacity \n",
    "    dataframe.loc[:,'kw_per_sq_ft'] = dataframe.kW/sq_ft\n",
    "    dataframe.loc[:,'week'] = [i//7 for i in range(len(dataframe))]\n",
    "    return dataframe"
   ]
  },
  {
   "cell_type": "markdown",
   "metadata": {},
   "source": [
    "Remove extra lines of nulls from the data. "
   ]
  },
  {
   "cell_type": "code",
   "execution_count": 10,
   "metadata": {},
   "outputs": [],
   "source": [
    "def remove_nulls(dataframe): \n",
    "    dataframe = dataframe[dataframe.kW.notnull()]\n",
    "    return dataframe"
   ]
  },
  {
   "cell_type": "markdown",
   "metadata": {},
   "source": [
    "### Clean Pearl Data"
   ]
  },
  {
   "cell_type": "code",
   "execution_count": 11,
   "metadata": {
    "scrolled": false
   },
   "outputs": [
    {
     "data": {
      "text/html": [
       "<div>\n",
       "<style scoped>\n",
       "    .dataframe tbody tr th:only-of-type {\n",
       "        vertical-align: middle;\n",
       "    }\n",
       "\n",
       "    .dataframe tbody tr th {\n",
       "        vertical-align: top;\n",
       "    }\n",
       "\n",
       "    .dataframe thead th {\n",
       "        text-align: right;\n",
       "    }\n",
       "</style>\n",
       "<table border=\"1\" class=\"dataframe\">\n",
       "  <thead>\n",
       "    <tr style=\"text-align: right;\">\n",
       "      <th></th>\n",
       "      <th>day</th>\n",
       "      <th>date</th>\n",
       "      <th>kWh</th>\n",
       "      <th>kW</th>\n",
       "      <th>occupied</th>\n",
       "      <th>kw_per_person</th>\n",
       "      <th>kw_per_sq_ft</th>\n",
       "      <th>week</th>\n",
       "    </tr>\n",
       "  </thead>\n",
       "  <tbody>\n",
       "    <tr>\n",
       "      <th>0</th>\n",
       "      <td>0</td>\n",
       "      <td>1/1/2020 12:00:00 AM</td>\n",
       "      <td>1,439.9760</td>\n",
       "      <td>80.640</td>\n",
       "      <td>0.0</td>\n",
       "      <td>0.544865</td>\n",
       "      <td>1.442576</td>\n",
       "      <td>0</td>\n",
       "    </tr>\n",
       "    <tr>\n",
       "      <th>1</th>\n",
       "      <td>1</td>\n",
       "      <td>1/2/2020 12:00:00 AM</td>\n",
       "      <td>1,325.8080</td>\n",
       "      <td>68.064</td>\n",
       "      <td>0.0</td>\n",
       "      <td>0.459892</td>\n",
       "      <td>1.217603</td>\n",
       "      <td>0</td>\n",
       "    </tr>\n",
       "    <tr>\n",
       "      <th>2</th>\n",
       "      <td>2</td>\n",
       "      <td>1/4/2020 12:00:00 AM</td>\n",
       "      <td>1,340.0880</td>\n",
       "      <td>71.040</td>\n",
       "      <td>0.0</td>\n",
       "      <td>0.480000</td>\n",
       "      <td>1.270841</td>\n",
       "      <td>0</td>\n",
       "    </tr>\n",
       "    <tr>\n",
       "      <th>3</th>\n",
       "      <td>3</td>\n",
       "      <td>1/5/2020 12:00:00 AM</td>\n",
       "      <td>1,432.7040</td>\n",
       "      <td>69.120</td>\n",
       "      <td>0.0</td>\n",
       "      <td>0.467027</td>\n",
       "      <td>1.236494</td>\n",
       "      <td>0</td>\n",
       "    </tr>\n",
       "    <tr>\n",
       "      <th>4</th>\n",
       "      <td>4</td>\n",
       "      <td>1/6/2020 12:00:00 AM</td>\n",
       "      <td>1,570.9921</td>\n",
       "      <td>101.760</td>\n",
       "      <td>1.0</td>\n",
       "      <td>0.687568</td>\n",
       "      <td>1.820394</td>\n",
       "      <td>0</td>\n",
       "    </tr>\n",
       "  </tbody>\n",
       "</table>\n",
       "</div>"
      ],
      "text/plain": [
       "   day                  date         kWh       kW  occupied  kw_per_person  \\\n",
       "0    0  1/1/2020 12:00:00 AM  1,439.9760   80.640       0.0       0.544865   \n",
       "1    1  1/2/2020 12:00:00 AM  1,325.8080   68.064       0.0       0.459892   \n",
       "2    2  1/4/2020 12:00:00 AM  1,340.0880   71.040       0.0       0.480000   \n",
       "3    3  1/5/2020 12:00:00 AM  1,432.7040   69.120       0.0       0.467027   \n",
       "4    4  1/6/2020 12:00:00 AM  1,570.9921  101.760       1.0       0.687568   \n",
       "\n",
       "   kw_per_sq_ft  week  \n",
       "0      1.442576     0  \n",
       "1      1.217603     0  \n",
       "2      1.270841     0  \n",
       "3      1.236494     0  \n",
       "4      1.820394     0  "
      ]
     },
     "execution_count": 11,
     "metadata": {},
     "output_type": "execute_result"
    }
   ],
   "source": [
    "pearl = remove_nulls(pearl)\n",
    "add_occupancy(pearl)\n",
    "pearl.reset_index(inplace = True) \n",
    "rename_cols(pearl)\n",
    "add_capacity_and_sqft(pearl,148,55.900)\n",
    "pearl.head()"
   ]
  },
  {
   "cell_type": "markdown",
   "metadata": {},
   "source": [
    "### Clean Breck Data"
   ]
  },
  {
   "cell_type": "code",
   "execution_count": 12,
   "metadata": {
    "scrolled": false
   },
   "outputs": [
    {
     "data": {
      "text/html": [
       "<div>\n",
       "<style scoped>\n",
       "    .dataframe tbody tr th:only-of-type {\n",
       "        vertical-align: middle;\n",
       "    }\n",
       "\n",
       "    .dataframe tbody tr th {\n",
       "        vertical-align: top;\n",
       "    }\n",
       "\n",
       "    .dataframe thead th {\n",
       "        text-align: right;\n",
       "    }\n",
       "</style>\n",
       "<table border=\"1\" class=\"dataframe\">\n",
       "  <thead>\n",
       "    <tr style=\"text-align: right;\">\n",
       "      <th></th>\n",
       "      <th>day</th>\n",
       "      <th>date</th>\n",
       "      <th>kWh</th>\n",
       "      <th>kW</th>\n",
       "      <th>occupied</th>\n",
       "      <th>kw_per_person</th>\n",
       "      <th>kw_per_sq_ft</th>\n",
       "      <th>week</th>\n",
       "    </tr>\n",
       "  </thead>\n",
       "  <tbody>\n",
       "    <tr>\n",
       "      <th>0</th>\n",
       "      <td>0</td>\n",
       "      <td>1/1/2020 12:00:00 AM</td>\n",
       "      <td>991.8840</td>\n",
       "      <td>44.64</td>\n",
       "      <td>0.0</td>\n",
       "      <td>0.437647</td>\n",
       "      <td>1.248183</td>\n",
       "      <td>0</td>\n",
       "    </tr>\n",
       "    <tr>\n",
       "      <th>1</th>\n",
       "      <td>1</td>\n",
       "      <td>1/2/2020 12:00:00 AM</td>\n",
       "      <td>930.1320</td>\n",
       "      <td>43.68</td>\n",
       "      <td>0.0</td>\n",
       "      <td>0.428235</td>\n",
       "      <td>1.221340</td>\n",
       "      <td>0</td>\n",
       "    </tr>\n",
       "    <tr>\n",
       "      <th>2</th>\n",
       "      <td>2</td>\n",
       "      <td>1/3/2020 12:00:00 AM</td>\n",
       "      <td>862.2360</td>\n",
       "      <td>40.32</td>\n",
       "      <td>0.0</td>\n",
       "      <td>0.395294</td>\n",
       "      <td>1.127391</td>\n",
       "      <td>0</td>\n",
       "    </tr>\n",
       "    <tr>\n",
       "      <th>3</th>\n",
       "      <td>3</td>\n",
       "      <td>1/4/2020 12:00:00 AM</td>\n",
       "      <td>1,003.2240</td>\n",
       "      <td>59.52</td>\n",
       "      <td>0.0</td>\n",
       "      <td>0.583529</td>\n",
       "      <td>1.664243</td>\n",
       "      <td>0</td>\n",
       "    </tr>\n",
       "    <tr>\n",
       "      <th>4</th>\n",
       "      <td>4</td>\n",
       "      <td>1/5/2020 12:00:00 AM</td>\n",
       "      <td>1,217.2321</td>\n",
       "      <td>66.24</td>\n",
       "      <td>1.0</td>\n",
       "      <td>0.649412</td>\n",
       "      <td>1.852142</td>\n",
       "      <td>0</td>\n",
       "    </tr>\n",
       "  </tbody>\n",
       "</table>\n",
       "</div>"
      ],
      "text/plain": [
       "   day                  date         kWh     kW  occupied  kw_per_person  \\\n",
       "0    0  1/1/2020 12:00:00 AM    991.8840  44.64       0.0       0.437647   \n",
       "1    1  1/2/2020 12:00:00 AM    930.1320  43.68       0.0       0.428235   \n",
       "2    2  1/3/2020 12:00:00 AM    862.2360  40.32       0.0       0.395294   \n",
       "3    3  1/4/2020 12:00:00 AM  1,003.2240  59.52       0.0       0.583529   \n",
       "4    4  1/5/2020 12:00:00 AM  1,217.2321  66.24       1.0       0.649412   \n",
       "\n",
       "   kw_per_sq_ft  week  \n",
       "0      1.248183     0  \n",
       "1      1.221340     0  \n",
       "2      1.127391     0  \n",
       "3      1.664243     0  \n",
       "4      1.852142     0  "
      ]
     },
     "execution_count": 12,
     "metadata": {},
     "output_type": "execute_result"
    }
   ],
   "source": [
    "breck = remove_nulls(breck)\n",
    "add_occupancy(breck)\n",
    "breck.reset_index(drop=True,inplace = True) \n",
    "breck.reset_index(inplace=True)\n",
    "rename_cols(breck)\n",
    "add_capacity_and_sqft(breck,102,35.764)\n",
    "breck.head()"
   ]
  },
  {
   "cell_type": "markdown",
   "metadata": {},
   "source": [
    "### Clean Yerkes Data"
   ]
  },
  {
   "cell_type": "code",
   "execution_count": 13,
   "metadata": {
    "scrolled": true
   },
   "outputs": [
    {
     "data": {
      "text/html": [
       "<div>\n",
       "<style scoped>\n",
       "    .dataframe tbody tr th:only-of-type {\n",
       "        vertical-align: middle;\n",
       "    }\n",
       "\n",
       "    .dataframe tbody tr th {\n",
       "        vertical-align: top;\n",
       "    }\n",
       "\n",
       "    .dataframe thead th {\n",
       "        text-align: right;\n",
       "    }\n",
       "</style>\n",
       "<table border=\"1\" class=\"dataframe\">\n",
       "  <thead>\n",
       "    <tr style=\"text-align: right;\">\n",
       "      <th></th>\n",
       "      <th>day</th>\n",
       "      <th>date</th>\n",
       "      <th>kWh</th>\n",
       "      <th>kW</th>\n",
       "      <th>occupied</th>\n",
       "      <th>kw_per_person</th>\n",
       "      <th>kw_per_sq_ft</th>\n",
       "      <th>week</th>\n",
       "    </tr>\n",
       "  </thead>\n",
       "  <tbody>\n",
       "    <tr>\n",
       "      <th>0</th>\n",
       "      <td>0</td>\n",
       "      <td>1/1/2020 12:00:00 AM</td>\n",
       "      <td>792.2000</td>\n",
       "      <td>36.0</td>\n",
       "      <td>0.0</td>\n",
       "      <td>0.375000</td>\n",
       "      <td>1.737452</td>\n",
       "      <td>0</td>\n",
       "    </tr>\n",
       "    <tr>\n",
       "      <th>1</th>\n",
       "      <td>1</td>\n",
       "      <td>1/2/2020 12:00:00 AM</td>\n",
       "      <td>782.0600</td>\n",
       "      <td>36.8</td>\n",
       "      <td>0.0</td>\n",
       "      <td>0.383333</td>\n",
       "      <td>1.776062</td>\n",
       "      <td>0</td>\n",
       "    </tr>\n",
       "    <tr>\n",
       "      <th>2</th>\n",
       "      <td>2</td>\n",
       "      <td>1/4/2020 12:00:00 AM</td>\n",
       "      <td>776.4600</td>\n",
       "      <td>35.2</td>\n",
       "      <td>0.0</td>\n",
       "      <td>0.366667</td>\n",
       "      <td>1.698842</td>\n",
       "      <td>0</td>\n",
       "    </tr>\n",
       "    <tr>\n",
       "      <th>3</th>\n",
       "      <td>3</td>\n",
       "      <td>1/5/2020 12:00:00 AM</td>\n",
       "      <td>816.2400</td>\n",
       "      <td>49.6</td>\n",
       "      <td>0.0</td>\n",
       "      <td>0.516667</td>\n",
       "      <td>2.393822</td>\n",
       "      <td>0</td>\n",
       "    </tr>\n",
       "    <tr>\n",
       "      <th>4</th>\n",
       "      <td>4</td>\n",
       "      <td>1/6/2020 12:00:00 AM</td>\n",
       "      <td>927.6400</td>\n",
       "      <td>56.0</td>\n",
       "      <td>1.0</td>\n",
       "      <td>0.583333</td>\n",
       "      <td>2.702703</td>\n",
       "      <td>0</td>\n",
       "    </tr>\n",
       "  </tbody>\n",
       "</table>\n",
       "</div>"
      ],
      "text/plain": [
       "   day                  date       kWh    kW  occupied  kw_per_person  \\\n",
       "0    0  1/1/2020 12:00:00 AM  792.2000  36.0       0.0       0.375000   \n",
       "1    1  1/2/2020 12:00:00 AM  782.0600  36.8       0.0       0.383333   \n",
       "2    2  1/4/2020 12:00:00 AM  776.4600  35.2       0.0       0.366667   \n",
       "3    3  1/5/2020 12:00:00 AM  816.2400  49.6       0.0       0.516667   \n",
       "4    4  1/6/2020 12:00:00 AM  927.6400  56.0       1.0       0.583333   \n",
       "\n",
       "   kw_per_sq_ft  week  \n",
       "0      1.737452     0  \n",
       "1      1.776062     0  \n",
       "2      1.698842     0  \n",
       "3      2.393822     0  \n",
       "4      2.702703     0  "
      ]
     },
     "execution_count": 13,
     "metadata": {},
     "output_type": "execute_result"
    }
   ],
   "source": [
    "yerkes = remove_nulls(yerkes)\n",
    "add_occupancy(yerkes)\n",
    "yerkes.reset_index(drop=True,inplace = True) \n",
    "yerkes.reset_index(inplace=True)\n",
    "rename_cols(yerkes)\n",
    "add_capacity_and_sqft(yerkes,96,20.720)\n",
    "yerkes.head()"
   ]
  },
  {
   "cell_type": "markdown",
   "metadata": {},
   "source": [
    "### Clean Brock Data"
   ]
  },
  {
   "cell_type": "code",
   "execution_count": 14,
   "metadata": {},
   "outputs": [
    {
     "data": {
      "text/html": [
       "<div>\n",
       "<style scoped>\n",
       "    .dataframe tbody tr th:only-of-type {\n",
       "        vertical-align: middle;\n",
       "    }\n",
       "\n",
       "    .dataframe tbody tr th {\n",
       "        vertical-align: top;\n",
       "    }\n",
       "\n",
       "    .dataframe thead th {\n",
       "        text-align: right;\n",
       "    }\n",
       "</style>\n",
       "<table border=\"1\" class=\"dataframe\">\n",
       "  <thead>\n",
       "    <tr style=\"text-align: right;\">\n",
       "      <th></th>\n",
       "      <th>day</th>\n",
       "      <th>date</th>\n",
       "      <th>kWh</th>\n",
       "      <th>kW</th>\n",
       "      <th>occupied</th>\n",
       "      <th>kw_per_person</th>\n",
       "      <th>kw_per_sq_ft</th>\n",
       "      <th>week</th>\n",
       "    </tr>\n",
       "  </thead>\n",
       "  <tbody>\n",
       "    <tr>\n",
       "      <th>0</th>\n",
       "      <td>0</td>\n",
       "      <td>1/1/2020 12:00:00 AM</td>\n",
       "      <td>765.0720</td>\n",
       "      <td>39.84</td>\n",
       "      <td>0.0</td>\n",
       "      <td>0.321290</td>\n",
       "      <td>0.840613</td>\n",
       "      <td>0</td>\n",
       "    </tr>\n",
       "    <tr>\n",
       "      <th>1</th>\n",
       "      <td>1</td>\n",
       "      <td>1/2/2020 12:00:00 AM</td>\n",
       "      <td>721.3680</td>\n",
       "      <td>44.64</td>\n",
       "      <td>0.0</td>\n",
       "      <td>0.360000</td>\n",
       "      <td>0.941891</td>\n",
       "      <td>0</td>\n",
       "    </tr>\n",
       "    <tr>\n",
       "      <th>2</th>\n",
       "      <td>2</td>\n",
       "      <td>1/4/2020 12:00:00 AM</td>\n",
       "      <td>736.1640</td>\n",
       "      <td>40.80</td>\n",
       "      <td>0.0</td>\n",
       "      <td>0.329032</td>\n",
       "      <td>0.860868</td>\n",
       "      <td>0</td>\n",
       "    </tr>\n",
       "    <tr>\n",
       "      <th>3</th>\n",
       "      <td>3</td>\n",
       "      <td>1/5/2020 12:00:00 AM</td>\n",
       "      <td>822.1680</td>\n",
       "      <td>46.56</td>\n",
       "      <td>0.0</td>\n",
       "      <td>0.375484</td>\n",
       "      <td>0.982403</td>\n",
       "      <td>0</td>\n",
       "    </tr>\n",
       "    <tr>\n",
       "      <th>4</th>\n",
       "      <td>4</td>\n",
       "      <td>1/6/2020 12:00:00 AM</td>\n",
       "      <td>1,012.2360</td>\n",
       "      <td>59.04</td>\n",
       "      <td>1.0</td>\n",
       "      <td>0.476129</td>\n",
       "      <td>1.245727</td>\n",
       "      <td>0</td>\n",
       "    </tr>\n",
       "  </tbody>\n",
       "</table>\n",
       "</div>"
      ],
      "text/plain": [
       "   day                  date         kWh     kW  occupied  kw_per_person  \\\n",
       "0    0  1/1/2020 12:00:00 AM    765.0720  39.84       0.0       0.321290   \n",
       "1    1  1/2/2020 12:00:00 AM    721.3680  44.64       0.0       0.360000   \n",
       "2    2  1/4/2020 12:00:00 AM    736.1640  40.80       0.0       0.329032   \n",
       "3    3  1/5/2020 12:00:00 AM    822.1680  46.56       0.0       0.375484   \n",
       "4    4  1/6/2020 12:00:00 AM  1,012.2360  59.04       1.0       0.476129   \n",
       "\n",
       "   kw_per_sq_ft  week  \n",
       "0      0.840613     0  \n",
       "1      0.941891     0  \n",
       "2      0.860868     0  \n",
       "3      0.982403     0  \n",
       "4      1.245727     0  "
      ]
     },
     "execution_count": 14,
     "metadata": {},
     "output_type": "execute_result"
    }
   ],
   "source": [
    "brock = remove_nulls(brock)\n",
    "add_occupancy(brock)\n",
    "brock.reset_index(drop=True,inplace = True) \n",
    "brock.reset_index(inplace=True)\n",
    "rename_cols(brock)\n",
    "add_capacity_and_sqft(brock,124,47.394)\n",
    "brock.head()"
   ]
  },
  {
   "cell_type": "markdown",
   "metadata": {},
   "source": [
    "### Merge Temperature and Building Data"
   ]
  },
  {
   "cell_type": "markdown",
   "metadata": {},
   "source": [
    "The following function merges the temperature data to each building's data. "
   ]
  },
  {
   "cell_type": "code",
   "execution_count": 15,
   "metadata": {},
   "outputs": [],
   "source": [
    "def merge_temp_building(dataframe,temp): \n",
    "    dataframe['Date'] = pd.to_datetime(dataframe['date'])\n",
    "    dataframe.drop(columns=\"date\", inplace = True)\n",
    "    new = dataframe.merge(temp, how='left', on = 'Date')\n",
    "    return new"
   ]
  },
  {
   "cell_type": "code",
   "execution_count": 16,
   "metadata": {
    "scrolled": true
   },
   "outputs": [],
   "source": [
    "pearl = merge_temp_building(pearl,temp)\n",
    "breck = merge_temp_building(breck,temp)\n",
    "yerkes = merge_temp_building(yerkes,temp)\n",
    "brock = merge_temp_building(brock,temp)"
   ]
  },
  {
   "cell_type": "markdown",
   "metadata": {},
   "source": [
    "## Exploratory Analysis"
   ]
  },
  {
   "cell_type": "markdown",
   "metadata": {},
   "source": [
    "### Calculating Means "
   ]
  },
  {
   "cell_type": "markdown",
   "metadata": {},
   "source": [
    "<b> Energy Consumption Per The Building's Capacity </b>"
   ]
  },
  {
   "cell_type": "code",
   "execution_count": 17,
   "metadata": {},
   "outputs": [
    {
     "data": {
      "text/plain": [
       "0.7405334514842721"
      ]
     },
     "execution_count": 17,
     "metadata": {},
     "output_type": "execute_result"
    }
   ],
   "source": [
    "pearl['kw_per_person'].mean()"
   ]
  },
  {
   "cell_type": "code",
   "execution_count": 18,
   "metadata": {
    "scrolled": true
   },
   "outputs": [
    {
     "data": {
      "text/plain": [
       "0.5109629825489161"
      ]
     },
     "execution_count": 18,
     "metadata": {},
     "output_type": "execute_result"
    }
   ],
   "source": [
    "brock['kw_per_person'].mean()"
   ]
  },
  {
   "cell_type": "code",
   "execution_count": 19,
   "metadata": {
    "scrolled": false
   },
   "outputs": [
    {
     "data": {
      "text/plain": [
       "0.5895768074100802"
      ]
     },
     "execution_count": 19,
     "metadata": {},
     "output_type": "execute_result"
    }
   ],
   "source": [
    "breck['kw_per_person'].mean()"
   ]
  },
  {
   "cell_type": "code",
   "execution_count": 20,
   "metadata": {},
   "outputs": [
    {
     "data": {
      "text/plain": [
       "0.5003142076502735"
      ]
     },
     "execution_count": 20,
     "metadata": {},
     "output_type": "execute_result"
    }
   ],
   "source": [
    "yerkes['kw_per_person'].mean()"
   ]
  },
  {
   "cell_type": "markdown",
   "metadata": {},
   "source": [
    "Despite being Gold LEED Certified, Pearl had the highest per person energy consumption over the time span that we looked. "
   ]
  },
  {
   "cell_type": "markdown",
   "metadata": {},
   "source": [
    "<b> Energy Consumption Per Square Foot"
   ]
  },
  {
   "cell_type": "code",
   "execution_count": 21,
   "metadata": {
    "scrolled": true
   },
   "outputs": [
    {
     "data": {
      "text/plain": [
       "1.9606252382767855"
      ]
     },
     "execution_count": 21,
     "metadata": {},
     "output_type": "execute_result"
    }
   ],
   "source": [
    "pearl['kw_per_sq_ft'].mean()"
   ]
  },
  {
   "cell_type": "code",
   "execution_count": 22,
   "metadata": {},
   "outputs": [
    {
     "data": {
      "text/plain": [
       "1.6814907268713872"
      ]
     },
     "execution_count": 22,
     "metadata": {},
     "output_type": "execute_result"
    }
   ],
   "source": [
    "breck['kw_per_sq_ft'].mean()"
   ]
  },
  {
   "cell_type": "code",
   "execution_count": 23,
   "metadata": {},
   "outputs": [
    {
     "data": {
      "text/plain": [
       "2.3180581049433537"
      ]
     },
     "execution_count": 23,
     "metadata": {},
     "output_type": "execute_result"
    }
   ],
   "source": [
    "yerkes['kw_per_sq_ft'].mean()"
   ]
  },
  {
   "cell_type": "code",
   "execution_count": 24,
   "metadata": {
    "scrolled": true
   },
   "outputs": [
    {
     "data": {
      "text/plain": [
       "1.3368656335414935"
      ]
     },
     "execution_count": 24,
     "metadata": {},
     "output_type": "execute_result"
    }
   ],
   "source": [
    "brock['kw_per_sq_ft'].mean()"
   ]
  },
  {
   "cell_type": "markdown",
   "metadata": {},
   "source": [
    "Despite being Gold LEED Certified, Pearl had a higher per 1000 square foot mean than Breck, which is not LEED Certified. Brock was more efficient per square foot than all the other buildings. "
   ]
  },
  {
   "cell_type": "markdown",
   "metadata": {},
   "source": [
    "### Save Dataframes to File"
   ]
  },
  {
   "cell_type": "code",
   "execution_count": 25,
   "metadata": {},
   "outputs": [],
   "source": [
    "pearl.to_csv(\"pearl.csv\")\n",
    "breck.to_csv(\"breck.csv\")\n",
    "yerkes.to_csv(\"yerkes.csv\")\n",
    "brock.to_csv(\"brock.csv\")"
   ]
  },
  {
   "cell_type": "markdown",
   "metadata": {},
   "source": [
    "### Plotting Average Consumption Per Person Over Time"
   ]
  },
  {
   "cell_type": "code",
   "execution_count": 26,
   "metadata": {},
   "outputs": [],
   "source": [
    "def plot_capacity(dataframe): \n",
    "    plt.bar(dataframe.index, dataframe.kw_per_person)\n",
    "    plt.xlabel(\"Days Since 1/1/20\")\n",
    "    plt.ylabel(\"Average Per Person Energy Consumption that Day\")\n",
    "    plt.show()"
   ]
  },
  {
   "cell_type": "code",
   "execution_count": 27,
   "metadata": {
    "scrolled": true
   },
   "outputs": [
    {
     "name": "stdout",
     "output_type": "stream",
     "text": [
      "Pearl: [Gold LEED Certified]\n"
     ]
    },
    {
     "data": {
      "image/png": "[encoded data removed]",
      "text/plain": [
       "<Figure size 432x288 with 1 Axes>"
      ]
     },
     "metadata": {
      "needs_background": "light"
     },
     "output_type": "display_data"
    },
    {
     "name": "stdout",
     "output_type": "stream",
     "text": [
      "Brock: [Silver LEED Certified]\n"
     ]
    },
    {
     "data": {
      "image/png": "[encoded data removed]",
      "text/plain": [
       "<Figure size 432x288 with 1 Axes>"
      ]
     },
     "metadata": {
      "needs_background": "light"
     },
     "output_type": "display_data"
    },
    {
     "name": "stdout",
     "output_type": "stream",
     "text": [
      "Breck: [Not Certified]\n"
     ]
    },
    {
     "data": {
      "image/png": "[encoded data removed]",
      "text/plain": [
       "<Figure size 432x288 with 1 Axes>"
      ]
     },
     "metadata": {
      "needs_background": "light"
     },
     "output_type": "display_data"
    },
    {
     "name": "stdout",
     "output_type": "stream",
     "text": [
      "Yerkes: [Not Certified]\n"
     ]
    },
    {
     "data": {
      "image/png": "[encoded data removed]",
      "text/plain": [
       "<Figure size 432x288 with 1 Axes>"
      ]
     },
     "metadata": {
      "needs_background": "light"
     },
     "output_type": "display_data"
    }
   ],
   "source": [
    "print(\"Pearl: [Gold LEED Certified]\")\n",
    "plot_capacity(pearl)\n",
    "print(\"Brock: [Silver LEED Certified]\")\n",
    "plot_capacity(brock)\n",
    "print(\"Breck: [Not Certified]\")\n",
    "plot_capacity(breck)\n",
    "print(\"Yerkes: [Not Certified]\")\n",
    "plot_capacity(yerkes)"
   ]
  },
  {
   "cell_type": "markdown",
   "metadata": {},
   "source": [
    "All four buildings follow similar trends throughout the year. One thing to note, though, is that all four buildings had very similar consumption per person regardless of whether or not they were LEED certified. "
   ]
  },
  {
   "cell_type": "markdown",
   "metadata": {},
   "source": [
    "### Plotting Average Consumption Per 1000 Square Feet Over Time"
   ]
  },
  {
   "cell_type": "code",
   "execution_count": 28,
   "metadata": {},
   "outputs": [],
   "source": [
    "def plot_sq_ft(dataframe): \n",
    "    plt.bar(dataframe.index, dataframe.kw_per_sq_ft)\n",
    "    plt.xlabel(\"Days Since 1/1/20\")\n",
    "    plt.ylabel(\"Average Per 1000 Ft^2 Energy Consumption that Day\")\n",
    "    plt.show()"
   ]
  },
  {
   "cell_type": "code",
   "execution_count": 29,
   "metadata": {
    "scrolled": true
   },
   "outputs": [
    {
     "name": "stdout",
     "output_type": "stream",
     "text": [
      "Pearl: [Gold LEED Certified]\n"
     ]
    },
    {
     "data": {
      "image/png": "[encoded data removed]",
      "text/plain": [
       "<Figure size 432x288 with 1 Axes>"
      ]
     },
     "metadata": {
      "needs_background": "light"
     },
     "output_type": "display_data"
    },
    {
     "name": "stdout",
     "output_type": "stream",
     "text": [
      "Brock: [Silver LEED Certified]\n"
     ]
    },
    {
     "data": {
      "image/png": "[encoded data removed]",
      "text/plain": [
       "<Figure size 432x288 with 1 Axes>"
      ]
     },
     "metadata": {
      "needs_background": "light"
     },
     "output_type": "display_data"
    },
    {
     "name": "stdout",
     "output_type": "stream",
     "text": [
      "Breck: [Not Certified]\n"
     ]
    },
    {
     "data": {
      "image/png": "[encoded data removed]",
      "text/plain": [
       "<Figure size 432x288 with 1 Axes>"
      ]
     },
     "metadata": {
      "needs_background": "light"
     },
     "output_type": "display_data"
    },
    {
     "name": "stdout",
     "output_type": "stream",
     "text": [
      "Yerkes: [Not Certified]\n"
     ]
    },
    {
     "data": {
      "image/png": "[encoded data removed]",
      "text/plain": [
       "<Figure size 432x288 with 1 Axes>"
      ]
     },
     "metadata": {
      "needs_background": "light"
     },
     "output_type": "display_data"
    }
   ],
   "source": [
    "print(\"Pearl: [Gold LEED Certified]\")\n",
    "plot_sq_ft(pearl)\n",
    "print(\"Brock: [Silver LEED Certified]\")\n",
    "plot_sq_ft(brock)\n",
    "print(\"Breck: [Not Certified]\")\n",
    "plot_sq_ft(breck)\n",
    "print(\"Yerkes: [Not Certified]\")\n",
    "plot_sq_ft(yerkes)"
   ]
  },
  {
   "cell_type": "markdown",
   "metadata": {},
   "source": [
    "When we scale for the square footage, Pearl and Breck have similar square footage. Brock is efficient, and Yerkes is the least efficient. However, Yerkes has the least amount of square footage, so it is able to keep up in total energy consumption. "
   ]
  },
  {
   "cell_type": "markdown",
   "metadata": {},
   "source": [
    "## Model Fitting"
   ]
  },
  {
   "cell_type": "markdown",
   "metadata": {},
   "source": [
    "We will now build a model for every single building. We decided, when looking at the temperature data, to model the kw_per_person as a function of the average temperature and whether or not the building was occupied. "
   ]
  },
  {
   "cell_type": "code",
   "execution_count": 30,
   "metadata": {
    "scrolled": true
   },
   "outputs": [
    {
     "data": {
      "text/html": [
       "<table class=\"simpletable\">\n",
       "<caption>OLS Regression Results</caption>\n",
       "<tr>\n",
       "  <th>Dep. Variable:</th>      <td>kw_per_person</td>  <th>  R-squared:         </th> <td>   0.185</td>\n",
       "</tr>\n",
       "<tr>\n",
       "  <th>Model:</th>                   <td>OLS</td>       <th>  Adj. R-squared:    </th> <td>   0.182</td>\n",
       "</tr>\n",
       "<tr>\n",
       "  <th>Method:</th>             <td>Least Squares</td>  <th>  F-statistic:       </th> <td>   55.01</td>\n",
       "</tr>\n",
       "<tr>\n",
       "  <th>Date:</th>             <td>Wed, 12 May 2021</td> <th>  Prob (F-statistic):</th> <td>2.93e-22</td>\n",
       "</tr>\n",
       "<tr>\n",
       "  <th>Time:</th>                 <td>16:41:14</td>     <th>  Log-Likelihood:    </th> <td>  260.37</td>\n",
       "</tr>\n",
       "<tr>\n",
       "  <th>No. Observations:</th>      <td>   488</td>      <th>  AIC:               </th> <td>  -514.7</td>\n",
       "</tr>\n",
       "<tr>\n",
       "  <th>Df Residuals:</th>          <td>   485</td>      <th>  BIC:               </th> <td>  -502.2</td>\n",
       "</tr>\n",
       "<tr>\n",
       "  <th>Df Model:</th>              <td>     2</td>      <th>                     </th>     <td> </td>   \n",
       "</tr>\n",
       "<tr>\n",
       "  <th>Covariance Type:</th>      <td>nonrobust</td>    <th>                     </th>     <td> </td>   \n",
       "</tr>\n",
       "</table>\n",
       "<table class=\"simpletable\">\n",
       "<tr>\n",
       "        <td></td>          <th>coef</th>     <th>std err</th>      <th>t</th>      <th>P>|t|</th>  <th>[0.025</th>    <th>0.975]</th>  \n",
       "</tr>\n",
       "<tr>\n",
       "  <th>Intercept</th>    <td>    0.5503</td> <td>    0.031</td> <td>   18.001</td> <td> 0.000</td> <td>    0.490</td> <td>    0.610</td>\n",
       "</tr>\n",
       "<tr>\n",
       "  <th>occupied</th>     <td>    0.1643</td> <td>    0.016</td> <td>   10.403</td> <td> 0.000</td> <td>    0.133</td> <td>    0.195</td>\n",
       "</tr>\n",
       "<tr>\n",
       "  <th>average_temp</th> <td>    0.0014</td> <td>    0.000</td> <td>    3.215</td> <td> 0.001</td> <td>    0.001</td> <td>    0.002</td>\n",
       "</tr>\n",
       "</table>\n",
       "<table class=\"simpletable\">\n",
       "<tr>\n",
       "  <th>Omnibus:</th>       <td>10.648</td> <th>  Durbin-Watson:     </th> <td>   0.517</td>\n",
       "</tr>\n",
       "<tr>\n",
       "  <th>Prob(Omnibus):</th> <td> 0.005</td> <th>  Jarque-Bera (JB):  </th> <td>   6.278</td>\n",
       "</tr>\n",
       "<tr>\n",
       "  <th>Skew:</th>          <td>-0.079</td> <th>  Prob(JB):          </th> <td>  0.0433</td>\n",
       "</tr>\n",
       "<tr>\n",
       "  <th>Kurtosis:</th>      <td> 2.468</td> <th>  Cond. No.          </th> <td>    281.</td>\n",
       "</tr>\n",
       "</table><br/><br/>Notes:<br/>[1] Standard Errors assume that the covariance matrix of the errors is correctly specified."
      ],
      "text/plain": [
       "<class 'statsmodels.iolib.summary.Summary'>\n",
       "\"\"\"\n",
       "                            OLS Regression Results                            \n",
       "==============================================================================\n",
       "Dep. Variable:          kw_per_person   R-squared:                       0.185\n",
       "Model:                            OLS   Adj. R-squared:                  0.182\n",
       "Method:                 Least Squares   F-statistic:                     55.01\n",
       "Date:                Wed, 12 May 2021   Prob (F-statistic):           2.93e-22\n",
       "Time:                        16:41:14   Log-Likelihood:                 260.37\n",
       "No. Observations:                 488   AIC:                            -514.7\n",
       "Df Residuals:                     485   BIC:                            -502.2\n",
       "Df Model:                           2                                         \n",
       "Covariance Type:            nonrobust                                         \n",
       "================================================================================\n",
       "                   coef    std err          t      P>|t|      [0.025      0.975]\n",
       "--------------------------------------------------------------------------------\n",
       "Intercept        0.5503      0.031     18.001      0.000       0.490       0.610\n",
       "occupied         0.1643      0.016     10.403      0.000       0.133       0.195\n",
       "average_temp     0.0014      0.000      3.215      0.001       0.001       0.002\n",
       "==============================================================================\n",
       "Omnibus:                       10.648   Durbin-Watson:                   0.517\n",
       "Prob(Omnibus):                  0.005   Jarque-Bera (JB):                6.278\n",
       "Skew:                          -0.079   Prob(JB):                       0.0433\n",
       "Kurtosis:                       2.468   Cond. No.                         281.\n",
       "==============================================================================\n",
       "\n",
       "Notes:\n",
       "[1] Standard Errors assume that the covariance matrix of the errors is correctly specified.\n",
       "\"\"\""
      ]
     },
     "execution_count": 30,
     "metadata": {},
     "output_type": "execute_result"
    }
   ],
   "source": [
    "model = smf.ols(formula = 'kw_per_person ~ occupied + average_temp ', data = pearl).fit()\n",
    "model.summary()"
   ]
  },
  {
   "cell_type": "markdown",
   "metadata": {},
   "source": [
    "The coefficient .0014 for the temperature coefficient tells us that as the temperature increases outside by 1 degree Fahrenheit, we expect the average kw_per_person for Pearl to increase by .0014. The more impactful variable is the occupancy variable, which increases the overall kw_per_person by .1643 whenever the building is occupied. "
   ]
  },
  {
   "cell_type": "code",
   "execution_count": 31,
   "metadata": {
    "scrolled": true
   },
   "outputs": [
    {
     "data": {
      "text/html": [
       "<table class=\"simpletable\">\n",
       "<caption>OLS Regression Results</caption>\n",
       "<tr>\n",
       "  <th>Dep. Variable:</th>      <td>kw_per_person</td>  <th>  R-squared:         </th> <td>   0.282</td>\n",
       "</tr>\n",
       "<tr>\n",
       "  <th>Model:</th>                   <td>OLS</td>       <th>  Adj. R-squared:    </th> <td>   0.279</td>\n",
       "</tr>\n",
       "<tr>\n",
       "  <th>Method:</th>             <td>Least Squares</td>  <th>  F-statistic:       </th> <td>   95.53</td>\n",
       "</tr>\n",
       "<tr>\n",
       "  <th>Date:</th>             <td>Wed, 12 May 2021</td> <th>  Prob (F-statistic):</th> <td>1.02e-35</td>\n",
       "</tr>\n",
       "<tr>\n",
       "  <th>Time:</th>                 <td>16:41:14</td>     <th>  Log-Likelihood:    </th> <td>  293.13</td>\n",
       "</tr>\n",
       "<tr>\n",
       "  <th>No. Observations:</th>      <td>   489</td>      <th>  AIC:               </th> <td>  -580.3</td>\n",
       "</tr>\n",
       "<tr>\n",
       "  <th>Df Residuals:</th>          <td>   486</td>      <th>  BIC:               </th> <td>  -567.7</td>\n",
       "</tr>\n",
       "<tr>\n",
       "  <th>Df Model:</th>              <td>     2</td>      <th>                     </th>     <td> </td>   \n",
       "</tr>\n",
       "<tr>\n",
       "  <th>Covariance Type:</th>      <td>nonrobust</td>    <th>                     </th>     <td> </td>   \n",
       "</tr>\n",
       "</table>\n",
       "<table class=\"simpletable\">\n",
       "<tr>\n",
       "        <td></td>          <th>coef</th>     <th>std err</th>      <th>t</th>      <th>P>|t|</th>  <th>[0.025</th>    <th>0.975]</th>  \n",
       "</tr>\n",
       "<tr>\n",
       "  <th>Intercept</th>    <td>    0.4529</td> <td>    0.029</td> <td>   15.768</td> <td> 0.000</td> <td>    0.396</td> <td>    0.509</td>\n",
       "</tr>\n",
       "<tr>\n",
       "  <th>occupied</th>     <td>    0.1864</td> <td>    0.015</td> <td>   12.596</td> <td> 0.000</td> <td>    0.157</td> <td>    0.215</td>\n",
       "</tr>\n",
       "<tr>\n",
       "  <th>average_temp</th> <td>    0.0001</td> <td>    0.000</td> <td>    0.305</td> <td> 0.761</td> <td>   -0.001</td> <td>    0.001</td>\n",
       "</tr>\n",
       "</table>\n",
       "<table class=\"simpletable\">\n",
       "<tr>\n",
       "  <th>Omnibus:</th>       <td>26.593</td> <th>  Durbin-Watson:     </th> <td>   0.261</td>\n",
       "</tr>\n",
       "<tr>\n",
       "  <th>Prob(Omnibus):</th> <td> 0.000</td> <th>  Jarque-Bera (JB):  </th> <td>  30.783</td>\n",
       "</tr>\n",
       "<tr>\n",
       "  <th>Skew:</th>          <td> 0.527</td> <th>  Prob(JB):          </th> <td>2.07e-07</td>\n",
       "</tr>\n",
       "<tr>\n",
       "  <th>Kurtosis:</th>      <td> 3.633</td> <th>  Cond. No.          </th> <td>    283.</td>\n",
       "</tr>\n",
       "</table><br/><br/>Notes:<br/>[1] Standard Errors assume that the covariance matrix of the errors is correctly specified."
      ],
      "text/plain": [
       "<class 'statsmodels.iolib.summary.Summary'>\n",
       "\"\"\"\n",
       "                            OLS Regression Results                            \n",
       "==============================================================================\n",
       "Dep. Variable:          kw_per_person   R-squared:                       0.282\n",
       "Model:                            OLS   Adj. R-squared:                  0.279\n",
       "Method:                 Least Squares   F-statistic:                     95.53\n",
       "Date:                Wed, 12 May 2021   Prob (F-statistic):           1.02e-35\n",
       "Time:                        16:41:14   Log-Likelihood:                 293.13\n",
       "No. Observations:                 489   AIC:                            -580.3\n",
       "Df Residuals:                     486   BIC:                            -567.7\n",
       "Df Model:                           2                                         \n",
       "Covariance Type:            nonrobust                                         \n",
       "================================================================================\n",
       "                   coef    std err          t      P>|t|      [0.025      0.975]\n",
       "--------------------------------------------------------------------------------\n",
       "Intercept        0.4529      0.029     15.768      0.000       0.396       0.509\n",
       "occupied         0.1864      0.015     12.596      0.000       0.157       0.215\n",
       "average_temp     0.0001      0.000      0.305      0.761      -0.001       0.001\n",
       "==============================================================================\n",
       "Omnibus:                       26.593   Durbin-Watson:                   0.261\n",
       "Prob(Omnibus):                  0.000   Jarque-Bera (JB):               30.783\n",
       "Skew:                           0.527   Prob(JB):                     2.07e-07\n",
       "Kurtosis:                       3.633   Cond. No.                         283.\n",
       "==============================================================================\n",
       "\n",
       "Notes:\n",
       "[1] Standard Errors assume that the covariance matrix of the errors is correctly specified.\n",
       "\"\"\""
      ]
     },
     "execution_count": 31,
     "metadata": {},
     "output_type": "execute_result"
    }
   ],
   "source": [
    "model = smf.ols(formula = 'kw_per_person ~ occupied + average_temp ', data = breck).fit()\n",
    "model.summary()"
   ]
  },
  {
   "cell_type": "markdown",
   "metadata": {},
   "source": [
    "Temperature was not a signficant predictor for Breckenrigde. However, when the building was occupied the kw_per_person increased by .1864. "
   ]
  },
  {
   "cell_type": "code",
   "execution_count": 32,
   "metadata": {},
   "outputs": [
    {
     "data": {
      "text/html": [
       "<table class=\"simpletable\">\n",
       "<caption>OLS Regression Results</caption>\n",
       "<tr>\n",
       "  <th>Dep. Variable:</th>      <td>kw_per_person</td>  <th>  R-squared:         </th> <td>   0.164</td>\n",
       "</tr>\n",
       "<tr>\n",
       "  <th>Model:</th>                   <td>OLS</td>       <th>  Adj. R-squared:    </th> <td>   0.161</td>\n",
       "</tr>\n",
       "<tr>\n",
       "  <th>Method:</th>             <td>Least Squares</td>  <th>  F-statistic:       </th> <td>   47.70</td>\n",
       "</tr>\n",
       "<tr>\n",
       "  <th>Date:</th>             <td>Wed, 12 May 2021</td> <th>  Prob (F-statistic):</th> <td>1.23e-19</td>\n",
       "</tr>\n",
       "<tr>\n",
       "  <th>Time:</th>                 <td>16:41:14</td>     <th>  Log-Likelihood:    </th> <td>  241.82</td>\n",
       "</tr>\n",
       "<tr>\n",
       "  <th>No. Observations:</th>      <td>   488</td>      <th>  AIC:               </th> <td>  -477.6</td>\n",
       "</tr>\n",
       "<tr>\n",
       "  <th>Df Residuals:</th>          <td>   485</td>      <th>  BIC:               </th> <td>  -465.1</td>\n",
       "</tr>\n",
       "<tr>\n",
       "  <th>Df Model:</th>              <td>     2</td>      <th>                     </th>     <td> </td>   \n",
       "</tr>\n",
       "<tr>\n",
       "  <th>Covariance Type:</th>      <td>nonrobust</td>    <th>                     </th>     <td> </td>   \n",
       "</tr>\n",
       "</table>\n",
       "<table class=\"simpletable\">\n",
       "<tr>\n",
       "        <td></td>          <th>coef</th>     <th>std err</th>      <th>t</th>      <th>P>|t|</th>  <th>[0.025</th>    <th>0.975]</th>  \n",
       "</tr>\n",
       "<tr>\n",
       "  <th>Intercept</th>    <td>    0.2968</td> <td>    0.032</td> <td>    9.347</td> <td> 0.000</td> <td>    0.234</td> <td>    0.359</td>\n",
       "</tr>\n",
       "<tr>\n",
       "  <th>occupied</th>     <td>    0.1601</td> <td>    0.016</td> <td>    9.758</td> <td> 0.000</td> <td>    0.128</td> <td>    0.192</td>\n",
       "</tr>\n",
       "<tr>\n",
       "  <th>average_temp</th> <td>    0.0017</td> <td>    0.000</td> <td>    3.761</td> <td> 0.000</td> <td>    0.001</td> <td>    0.003</td>\n",
       "</tr>\n",
       "</table>\n",
       "<table class=\"simpletable\">\n",
       "<tr>\n",
       "  <th>Omnibus:</th>       <td> 6.634</td> <th>  Durbin-Watson:     </th> <td>   0.130</td>\n",
       "</tr>\n",
       "<tr>\n",
       "  <th>Prob(Omnibus):</th> <td> 0.036</td> <th>  Jarque-Bera (JB):  </th> <td>   5.040</td>\n",
       "</tr>\n",
       "<tr>\n",
       "  <th>Skew:</th>          <td> 0.136</td> <th>  Prob(JB):          </th> <td>  0.0805</td>\n",
       "</tr>\n",
       "<tr>\n",
       "  <th>Kurtosis:</th>      <td> 2.583</td> <th>  Cond. No.          </th> <td>    281.</td>\n",
       "</tr>\n",
       "</table><br/><br/>Notes:<br/>[1] Standard Errors assume that the covariance matrix of the errors is correctly specified."
      ],
      "text/plain": [
       "<class 'statsmodels.iolib.summary.Summary'>\n",
       "\"\"\"\n",
       "                            OLS Regression Results                            \n",
       "==============================================================================\n",
       "Dep. Variable:          kw_per_person   R-squared:                       0.164\n",
       "Model:                            OLS   Adj. R-squared:                  0.161\n",
       "Method:                 Least Squares   F-statistic:                     47.70\n",
       "Date:                Wed, 12 May 2021   Prob (F-statistic):           1.23e-19\n",
       "Time:                        16:41:14   Log-Likelihood:                 241.82\n",
       "No. Observations:                 488   AIC:                            -477.6\n",
       "Df Residuals:                     485   BIC:                            -465.1\n",
       "Df Model:                           2                                         \n",
       "Covariance Type:            nonrobust                                         \n",
       "================================================================================\n",
       "                   coef    std err          t      P>|t|      [0.025      0.975]\n",
       "--------------------------------------------------------------------------------\n",
       "Intercept        0.2968      0.032      9.347      0.000       0.234       0.359\n",
       "occupied         0.1601      0.016      9.758      0.000       0.128       0.192\n",
       "average_temp     0.0017      0.000      3.761      0.000       0.001       0.003\n",
       "==============================================================================\n",
       "Omnibus:                        6.634   Durbin-Watson:                   0.130\n",
       "Prob(Omnibus):                  0.036   Jarque-Bera (JB):                5.040\n",
       "Skew:                           0.136   Prob(JB):                       0.0805\n",
       "Kurtosis:                       2.583   Cond. No.                         281.\n",
       "==============================================================================\n",
       "\n",
       "Notes:\n",
       "[1] Standard Errors assume that the covariance matrix of the errors is correctly specified.\n",
       "\"\"\""
      ]
     },
     "execution_count": 32,
     "metadata": {},
     "output_type": "execute_result"
    }
   ],
   "source": [
    "model = smf.ols(formula = 'kw_per_person ~  occupied + average_temp ', data = yerkes).fit()\n",
    "model.summary()"
   ]
  },
  {
   "cell_type": "markdown",
   "metadata": {},
   "source": [
    "The temperature for Yerkes did have a significant impact on the overall consumption. As the temperature increases by one degree Fahrenheit, the energy consumption per person is expected to increase by .0017. "
   ]
  },
  {
   "cell_type": "code",
   "execution_count": 33,
   "metadata": {
    "scrolled": true
   },
   "outputs": [
    {
     "data": {
      "text/html": [
       "<table class=\"simpletable\">\n",
       "<caption>OLS Regression Results</caption>\n",
       "<tr>\n",
       "  <th>Dep. Variable:</th>      <td>kw_per_person</td>  <th>  R-squared:         </th> <td>   0.097</td>\n",
       "</tr>\n",
       "<tr>\n",
       "  <th>Model:</th>                   <td>OLS</td>       <th>  Adj. R-squared:    </th> <td>   0.093</td>\n",
       "</tr>\n",
       "<tr>\n",
       "  <th>Method:</th>             <td>Least Squares</td>  <th>  F-statistic:       </th> <td>   26.03</td>\n",
       "</tr>\n",
       "<tr>\n",
       "  <th>Date:</th>             <td>Wed, 12 May 2021</td> <th>  Prob (F-statistic):</th> <td>1.83e-11</td>\n",
       "</tr>\n",
       "<tr>\n",
       "  <th>Time:</th>                 <td>16:41:14</td>     <th>  Log-Likelihood:    </th> <td>  246.63</td>\n",
       "</tr>\n",
       "<tr>\n",
       "  <th>No. Observations:</th>      <td>   488</td>      <th>  AIC:               </th> <td>  -487.3</td>\n",
       "</tr>\n",
       "<tr>\n",
       "  <th>Df Residuals:</th>          <td>   485</td>      <th>  BIC:               </th> <td>  -474.7</td>\n",
       "</tr>\n",
       "<tr>\n",
       "  <th>Df Model:</th>              <td>     2</td>      <th>                     </th>     <td> </td>   \n",
       "</tr>\n",
       "<tr>\n",
       "  <th>Covariance Type:</th>      <td>nonrobust</td>    <th>                     </th>     <td> </td>   \n",
       "</tr>\n",
       "</table>\n",
       "<table class=\"simpletable\">\n",
       "<tr>\n",
       "        <td></td>          <th>coef</th>     <th>std err</th>      <th>t</th>      <th>P>|t|</th>  <th>[0.025</th>    <th>0.975]</th>  \n",
       "</tr>\n",
       "<tr>\n",
       "  <th>Intercept</th>    <td>    0.5341</td> <td>    0.031</td> <td>   16.988</td> <td> 0.000</td> <td>    0.472</td> <td>    0.596</td>\n",
       "</tr>\n",
       "<tr>\n",
       "  <th>occupied</th>     <td>    0.0742</td> <td>    0.016</td> <td>    4.567</td> <td> 0.000</td> <td>    0.042</td> <td>    0.106</td>\n",
       "</tr>\n",
       "<tr>\n",
       "  <th>average_temp</th> <td>   -0.0014</td> <td>    0.000</td> <td>   -3.109</td> <td> 0.002</td> <td>   -0.002</td> <td>   -0.001</td>\n",
       "</tr>\n",
       "</table>\n",
       "<table class=\"simpletable\">\n",
       "<tr>\n",
       "  <th>Omnibus:</th>       <td>50.511</td> <th>  Durbin-Watson:     </th> <td>   0.452</td>\n",
       "</tr>\n",
       "<tr>\n",
       "  <th>Prob(Omnibus):</th> <td> 0.000</td> <th>  Jarque-Bera (JB):  </th> <td> 276.818</td>\n",
       "</tr>\n",
       "<tr>\n",
       "  <th>Skew:</th>          <td> 0.189</td> <th>  Prob(JB):          </th> <td>7.76e-61</td>\n",
       "</tr>\n",
       "<tr>\n",
       "  <th>Kurtosis:</th>      <td> 6.670</td> <th>  Cond. No.          </th> <td>    281.</td>\n",
       "</tr>\n",
       "</table><br/><br/>Notes:<br/>[1] Standard Errors assume that the covariance matrix of the errors is correctly specified."
      ],
      "text/plain": [
       "<class 'statsmodels.iolib.summary.Summary'>\n",
       "\"\"\"\n",
       "                            OLS Regression Results                            \n",
       "==============================================================================\n",
       "Dep. Variable:          kw_per_person   R-squared:                       0.097\n",
       "Model:                            OLS   Adj. R-squared:                  0.093\n",
       "Method:                 Least Squares   F-statistic:                     26.03\n",
       "Date:                Wed, 12 May 2021   Prob (F-statistic):           1.83e-11\n",
       "Time:                        16:41:14   Log-Likelihood:                 246.63\n",
       "No. Observations:                 488   AIC:                            -487.3\n",
       "Df Residuals:                     485   BIC:                            -474.7\n",
       "Df Model:                           2                                         \n",
       "Covariance Type:            nonrobust                                         \n",
       "================================================================================\n",
       "                   coef    std err          t      P>|t|      [0.025      0.975]\n",
       "--------------------------------------------------------------------------------\n",
       "Intercept        0.5341      0.031     16.988      0.000       0.472       0.596\n",
       "occupied         0.0742      0.016      4.567      0.000       0.042       0.106\n",
       "average_temp    -0.0014      0.000     -3.109      0.002      -0.002      -0.001\n",
       "==============================================================================\n",
       "Omnibus:                       50.511   Durbin-Watson:                   0.452\n",
       "Prob(Omnibus):                  0.000   Jarque-Bera (JB):              276.818\n",
       "Skew:                           0.189   Prob(JB):                     7.76e-61\n",
       "Kurtosis:                       6.670   Cond. No.                         281.\n",
       "==============================================================================\n",
       "\n",
       "Notes:\n",
       "[1] Standard Errors assume that the covariance matrix of the errors is correctly specified.\n",
       "\"\"\""
      ]
     },
     "execution_count": 33,
     "metadata": {},
     "output_type": "execute_result"
    }
   ],
   "source": [
    "model = smf.ols(formula = 'kw_per_person ~ occupied + average_temp ', data = brock).fit()\n",
    "model.summary()"
   ]
  },
  {
   "cell_type": "markdown",
   "metadata": {},
   "source": [
    "The temperature for Brock had a signficiant impact on the energy consumption. The negative coefficient implies that it takes more energy to heat Brock rather than to cool it. The occupancy variable also had a lower coefficient, .0742, than any other building. This implies that Brock's energy consumption does not change as much in times when students are not living there. "
   ]
  },
  {
   "cell_type": "markdown",
   "metadata": {},
   "source": [
    "## Analysis"
   ]
  },
  {
   "cell_type": "markdown",
   "metadata": {},
   "source": [
    "The important context that our data provides comes from our graphs. The LEED certified buildings of Brock and Pearl did not have significantly lower energy consumption than the non-LEED certified buildings Breck and Yerkes. Though Yerkes did have a high consumption per 1000 square feet, Yerkes has a small amount of square footing so it is not using more energy per its capacity. \n",
    "\n",
    "Our recommendation to the school is for the school to build smaller, more energy efficient buildings. The recent trend towards giving more space to each student is not allowing for significant decreases to its energy consumption. Building smaller buildings that are LEED certified may allow the college to meet its goal of carbon neutrality by 2040. "
   ]
  },
  {
   "cell_type": "markdown",
   "metadata": {},
   "source": [
    "## Conclusion"
   ]
  },
  {
   "cell_type": "markdown",
   "metadata": {},
   "source": [
    "This final project allowed us to work with a dataset of our choosing to help solve a problem. "
   ]
  },
  {
   "cell_type": "markdown",
   "metadata": {},
   "source": [
    "## Future Possibilities"
   ]
  },
  {
   "cell_type": "markdown",
   "metadata": {},
   "source": [
    "In the future we would like to... \n",
    "\n",
    "    Look into more buildings we do not have data for\n",
    "    \n",
    "    Develop an ARIMA model for the data\n",
    "    \n",
    "    Analyze academic buildings"
   ]
  },
  {
   "cell_type": "markdown",
   "metadata": {},
   "source": [
    "## Acknowledgements"
   ]
  },
  {
   "cell_type": "markdown",
   "metadata": {},
   "source": [
    "Thank you to... \n",
    "\n",
    "    Dr. Allen for assistance in office hours\n",
    "    \n",
    "    Dr. Werner and Nick Bowman for providing us information and context"
   ]
  },
  {
   "cell_type": "markdown",
   "metadata": {},
   "source": [
    "## References"
   ]
  },
  {
   "cell_type": "markdown",
   "metadata": {},
   "source": [
    "“A. Eugene Brockman Residential Commons.” Hastings+Chivetta, 16 Feb. 2021, www.hastingschivetta.com/projects/a-eugene-brockman-residential-commons/.\n",
    "\n",
    "LLC, Accelerated Innovations. “Energy Awareness &amp; Tracking Makes It Easy to Understand Your Home or Business.” MyMeter, mymeter.lge-ku.com/. "
   ]
  }
 ],
 "metadata": {
  "kernelspec": {
   "display_name": "Python 3",
   "language": "python",
   "name": "python3"
  },
  "language_info": {
   "codemirror_mode": {
    "name": "ipython",
    "version": 3
   },
   "file_extension": ".py",
   "mimetype": "text/x-python",
   "name": "python",
   "nbconvert_exporter": "python",
   "pygments_lexer": "ipython3",
   "version": "3.8.5"
  }
 },
 "nbformat": 4,
 "nbformat_minor": 5
}
