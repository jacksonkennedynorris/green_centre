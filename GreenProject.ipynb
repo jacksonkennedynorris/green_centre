{
 "cells": [
  {
   "cell_type": "code",
   "execution_count": 1,
   "metadata": {},
   "outputs": [],
   "source": [
    "import pandas as pd \n",
    "import seaborn as sns\n",
    "import matplotlib.pyplot as plt"
   ]
  },
  {
   "cell_type": "code",
   "execution_count": 2,
   "metadata": {},
   "outputs": [],
   "source": [
    "def rename_cols(dataframe,building): \n",
    "    dataframe.rename(columns = {\"kWh\": str(building+\"_kWh\"),\"kW\": str(building + \"_kW\")},inplace = True)\n",
    "    dataframe.head()"
   ]
  },
  {
   "cell_type": "code",
   "execution_count": 3,
   "metadata": {},
   "outputs": [],
   "source": [
    "def assert_string(dataframe):\n",
    "    print(type(dataframe[\"Read Date\"][0]).__name__)\n",
    "    assert(type(dataframe[\"Read Date\"][0]).__name__==\"str\")"
   ]
  },
  {
   "cell_type": "code",
   "execution_count": 4,
   "metadata": {},
   "outputs": [],
   "source": [
    "def add_name(dataframe,building):\n",
    "    dataframe['building'] = building"
   ]
  },
  {
   "cell_type": "code",
   "execution_count": 5,
   "metadata": {},
   "outputs": [],
   "source": [
    "def plot_daily_data(dataframe): \n",
    "    day = [i for i in range(len(dataframe))]\n",
    "    plt.bar(day,dataframe.iloc[:,2])\n",
    "    plt.show()"
   ]
  },
  {
   "cell_type": "code",
   "execution_count": 6,
   "metadata": {},
   "outputs": [
    {
     "data": {
      "text/html": [
       "<div>\n",
       "<style scoped>\n",
       "    .dataframe tbody tr th:only-of-type {\n",
       "        vertical-align: middle;\n",
       "    }\n",
       "\n",
       "    .dataframe tbody tr th {\n",
       "        vertical-align: top;\n",
       "    }\n",
       "\n",
       "    .dataframe thead th {\n",
       "        text-align: right;\n",
       "    }\n",
       "</style>\n",
       "<table border=\"1\" class=\"dataframe\">\n",
       "  <thead>\n",
       "    <tr style=\"text-align: right;\">\n",
       "      <th></th>\n",
       "      <th>Read Date</th>\n",
       "      <th>olin_kWh</th>\n",
       "      <th>olin_kW</th>\n",
       "    </tr>\n",
       "  </thead>\n",
       "  <tbody>\n",
       "    <tr>\n",
       "      <th>0</th>\n",
       "      <td>1/1/2020 12:00:00 AM</td>\n",
       "      <td>662.0000</td>\n",
       "      <td>28.8</td>\n",
       "    </tr>\n",
       "    <tr>\n",
       "      <th>1</th>\n",
       "      <td>1/2/2020 12:00:00 AM</td>\n",
       "      <td>679.4000</td>\n",
       "      <td>32.8</td>\n",
       "    </tr>\n",
       "    <tr>\n",
       "      <th>2</th>\n",
       "      <td>1/4/2020 12:00:00 AM</td>\n",
       "      <td>660.2000</td>\n",
       "      <td>28.8</td>\n",
       "    </tr>\n",
       "    <tr>\n",
       "      <th>3</th>\n",
       "      <td>1/5/2020 12:00:00 AM</td>\n",
       "      <td>668.6000</td>\n",
       "      <td>28.8</td>\n",
       "    </tr>\n",
       "    <tr>\n",
       "      <th>4</th>\n",
       "      <td>1/6/2020 12:00:00 AM</td>\n",
       "      <td>679.0000</td>\n",
       "      <td>32.0</td>\n",
       "    </tr>\n",
       "    <tr>\n",
       "      <th>...</th>\n",
       "      <td>...</td>\n",
       "      <td>...</td>\n",
       "      <td>...</td>\n",
       "    </tr>\n",
       "    <tr>\n",
       "      <th>816</th>\n",
       "      <td>4/29/2021 12:00:00 AM</td>\n",
       "      <td>2,618.6001</td>\n",
       "      <td>132.8</td>\n",
       "    </tr>\n",
       "    <tr>\n",
       "      <th>818</th>\n",
       "      <td>4/30/2021 12:00:00 AM</td>\n",
       "      <td>2,341.2000</td>\n",
       "      <td>108.8</td>\n",
       "    </tr>\n",
       "    <tr>\n",
       "      <th>820</th>\n",
       "      <td>5/1/2021 12:00:00 AM</td>\n",
       "      <td>2,118.3999</td>\n",
       "      <td>104.0</td>\n",
       "    </tr>\n",
       "    <tr>\n",
       "      <th>822</th>\n",
       "      <td>5/2/2021 12:00:00 AM</td>\n",
       "      <td>2,290.3999</td>\n",
       "      <td>106.4</td>\n",
       "    </tr>\n",
       "    <tr>\n",
       "      <th>824</th>\n",
       "      <td>5/3/2021 12:00:00 AM</td>\n",
       "      <td>2,696.3201</td>\n",
       "      <td>135.2</td>\n",
       "    </tr>\n",
       "  </tbody>\n",
       "</table>\n",
       "<p>488 rows × 3 columns</p>\n",
       "</div>"
      ],
      "text/plain": [
       "                 Read Date    olin_kWh  olin_kW\n",
       "0     1/1/2020 12:00:00 AM    662.0000     28.8\n",
       "1     1/2/2020 12:00:00 AM    679.4000     32.8\n",
       "2     1/4/2020 12:00:00 AM    660.2000     28.8\n",
       "3     1/5/2020 12:00:00 AM    668.6000     28.8\n",
       "4     1/6/2020 12:00:00 AM    679.0000     32.0\n",
       "..                     ...         ...      ...\n",
       "816  4/29/2021 12:00:00 AM  2,618.6001    132.8\n",
       "818  4/30/2021 12:00:00 AM  2,341.2000    108.8\n",
       "820   5/1/2021 12:00:00 AM  2,118.3999    104.0\n",
       "822   5/2/2021 12:00:00 AM  2,290.3999    106.4\n",
       "824   5/3/2021 12:00:00 AM  2,696.3201    135.2\n",
       "\n",
       "[488 rows x 3 columns]"
      ]
     },
     "execution_count": 6,
     "metadata": {},
     "output_type": "execute_result"
    }
   ],
   "source": [
    "olin = pd.read_csv(\"olin_daily.csv\")\n",
    "rename_cols(olin,\"olin\")\n",
    "day = [i for i in range(len(olin['Read Date']))]\n",
    "olin = olin[olin.olin_kW.notnull()]\n",
    "olin"
   ]
  },
  {
   "cell_type": "code",
   "execution_count": 7,
   "metadata": {
    "scrolled": true
   },
   "outputs": [
    {
     "data": {
      "image/png": "[encoded data removed]",
      "text/plain": [
       "<Figure size 432x288 with 1 Axes>"
      ]
     },
     "metadata": {
      "needs_background": "light"
     },
     "output_type": "display_data"
    }
   ],
   "source": [
    "plot_daily_data(olin)"
   ]
  },
  {
   "cell_type": "code",
   "execution_count": 8,
   "metadata": {},
   "outputs": [
    {
     "data": {
      "text/html": [
       "<div>\n",
       "<style scoped>\n",
       "    .dataframe tbody tr th:only-of-type {\n",
       "        vertical-align: middle;\n",
       "    }\n",
       "\n",
       "    .dataframe tbody tr th {\n",
       "        vertical-align: top;\n",
       "    }\n",
       "\n",
       "    .dataframe thead th {\n",
       "        text-align: right;\n",
       "    }\n",
       "</style>\n",
       "<table border=\"1\" class=\"dataframe\">\n",
       "  <thead>\n",
       "    <tr style=\"text-align: right;\">\n",
       "      <th></th>\n",
       "      <th>Read Date</th>\n",
       "      <th>old_centre_kWh</th>\n",
       "      <th>old_centre_kW</th>\n",
       "    </tr>\n",
       "  </thead>\n",
       "  <tbody>\n",
       "    <tr>\n",
       "      <th>208</th>\n",
       "      <td>7/1/2020 12:00:00 AM</td>\n",
       "      <td>1,234.3400</td>\n",
       "      <td>64.80</td>\n",
       "    </tr>\n",
       "    <tr>\n",
       "      <th>210</th>\n",
       "      <td>7/2/2020 12:00:00 AM</td>\n",
       "      <td>1,293.6000</td>\n",
       "      <td>69.52</td>\n",
       "    </tr>\n",
       "    <tr>\n",
       "      <th>212</th>\n",
       "      <td>7/3/2020 12:00:00 AM</td>\n",
       "      <td>1,198.1200</td>\n",
       "      <td>60.00</td>\n",
       "    </tr>\n",
       "    <tr>\n",
       "      <th>214</th>\n",
       "      <td>7/4/2020 12:00:00 AM</td>\n",
       "      <td>1,217.4399</td>\n",
       "      <td>60.80</td>\n",
       "    </tr>\n",
       "    <tr>\n",
       "      <th>216</th>\n",
       "      <td>7/5/2020 12:00:00 AM</td>\n",
       "      <td>1,229.1000</td>\n",
       "      <td>60.00</td>\n",
       "    </tr>\n",
       "    <tr>\n",
       "      <th>...</th>\n",
       "      <td>...</td>\n",
       "      <td>...</td>\n",
       "      <td>...</td>\n",
       "    </tr>\n",
       "    <tr>\n",
       "      <th>812</th>\n",
       "      <td>4/29/2021 12:00:00 AM</td>\n",
       "      <td>986.3800</td>\n",
       "      <td>60.00</td>\n",
       "    </tr>\n",
       "    <tr>\n",
       "      <th>814</th>\n",
       "      <td>4/30/2021 12:00:00 AM</td>\n",
       "      <td>970.1800</td>\n",
       "      <td>56.00</td>\n",
       "    </tr>\n",
       "    <tr>\n",
       "      <th>816</th>\n",
       "      <td>5/1/2021 12:00:00 AM</td>\n",
       "      <td>838.9800</td>\n",
       "      <td>50.40</td>\n",
       "    </tr>\n",
       "    <tr>\n",
       "      <th>818</th>\n",
       "      <td>5/2/2021 12:00:00 AM</td>\n",
       "      <td>833.9600</td>\n",
       "      <td>45.60</td>\n",
       "    </tr>\n",
       "    <tr>\n",
       "      <th>820</th>\n",
       "      <td>5/3/2021 12:00:00 AM</td>\n",
       "      <td>1,011.7200</td>\n",
       "      <td>64.00</td>\n",
       "    </tr>\n",
       "  </tbody>\n",
       "</table>\n",
       "<p>307 rows × 3 columns</p>\n",
       "</div>"
      ],
      "text/plain": [
       "                 Read Date old_centre_kWh  old_centre_kW\n",
       "208   7/1/2020 12:00:00 AM     1,234.3400          64.80\n",
       "210   7/2/2020 12:00:00 AM     1,293.6000          69.52\n",
       "212   7/3/2020 12:00:00 AM     1,198.1200          60.00\n",
       "214   7/4/2020 12:00:00 AM     1,217.4399          60.80\n",
       "216   7/5/2020 12:00:00 AM     1,229.1000          60.00\n",
       "..                     ...            ...            ...\n",
       "812  4/29/2021 12:00:00 AM       986.3800          60.00\n",
       "814  4/30/2021 12:00:00 AM       970.1800          56.00\n",
       "816   5/1/2021 12:00:00 AM       838.9800          50.40\n",
       "818   5/2/2021 12:00:00 AM       833.9600          45.60\n",
       "820   5/3/2021 12:00:00 AM     1,011.7200          64.00\n",
       "\n",
       "[307 rows x 3 columns]"
      ]
     },
     "execution_count": 8,
     "metadata": {},
     "output_type": "execute_result"
    }
   ],
   "source": [
    "old_centre = pd.read_csv(\"old_centre_daily.csv\")\n",
    "rename_cols(old_centre,\"old_centre\")\n",
    "old_centre = old_centre[old_centre.old_centre_kW.notnull()]\n",
    "old_centre = old_centre[181:]\n",
    "old_centre"
   ]
  },
  {
   "cell_type": "code",
   "execution_count": 9,
   "metadata": {
    "scrolled": false
   },
   "outputs": [
    {
     "data": {
      "image/png": "[encoded data removed]",
      "text/plain": [
       "<Figure size 432x288 with 1 Axes>"
      ]
     },
     "metadata": {
      "needs_background": "light"
     },
     "output_type": "display_data"
    }
   ],
   "source": [
    "plot_daily_data(old_centre)"
   ]
  },
  {
   "cell_type": "code",
   "execution_count": 10,
   "metadata": {
    "scrolled": true
   },
   "outputs": [
    {
     "name": "stdout",
     "output_type": "stream",
     "text": [
      "str\n"
     ]
    }
   ],
   "source": [
    "assert_string(olin)"
   ]
  },
  {
   "cell_type": "code",
   "execution_count": null,
   "metadata": {},
   "outputs": [],
   "source": []
  },
  {
   "cell_type": "code",
   "execution_count": 11,
   "metadata": {},
   "outputs": [
    {
     "data": {
      "text/html": [
       "<div>\n",
       "<style scoped>\n",
       "    .dataframe tbody tr th:only-of-type {\n",
       "        vertical-align: middle;\n",
       "    }\n",
       "\n",
       "    .dataframe tbody tr th {\n",
       "        vertical-align: top;\n",
       "    }\n",
       "\n",
       "    .dataframe thead th {\n",
       "        text-align: right;\n",
       "    }\n",
       "</style>\n",
       "<table border=\"1\" class=\"dataframe\">\n",
       "  <thead>\n",
       "    <tr style=\"text-align: right;\">\n",
       "      <th></th>\n",
       "      <th>Read Date</th>\n",
       "      <th>pearl_kWh</th>\n",
       "      <th>pearl_kW</th>\n",
       "    </tr>\n",
       "  </thead>\n",
       "  <tbody>\n",
       "    <tr>\n",
       "      <th>0</th>\n",
       "      <td>1/1/2020 12:00:00 AM</td>\n",
       "      <td>1,439.9760</td>\n",
       "      <td>80.640</td>\n",
       "    </tr>\n",
       "    <tr>\n",
       "      <th>1</th>\n",
       "      <td>1/2/2020 12:00:00 AM</td>\n",
       "      <td>1,325.8080</td>\n",
       "      <td>68.064</td>\n",
       "    </tr>\n",
       "    <tr>\n",
       "      <th>2</th>\n",
       "      <td>1/4/2020 12:00:00 AM</td>\n",
       "      <td>1,340.0880</td>\n",
       "      <td>71.040</td>\n",
       "    </tr>\n",
       "    <tr>\n",
       "      <th>3</th>\n",
       "      <td>1/5/2020 12:00:00 AM</td>\n",
       "      <td>1,432.7040</td>\n",
       "      <td>69.120</td>\n",
       "    </tr>\n",
       "    <tr>\n",
       "      <th>4</th>\n",
       "      <td>1/6/2020 12:00:00 AM</td>\n",
       "      <td>1,570.9921</td>\n",
       "      <td>101.760</td>\n",
       "    </tr>\n",
       "    <tr>\n",
       "      <th>...</th>\n",
       "      <td>...</td>\n",
       "      <td>...</td>\n",
       "      <td>...</td>\n",
       "    </tr>\n",
       "    <tr>\n",
       "      <th>816</th>\n",
       "      <td>4/29/2021 12:00:00 AM</td>\n",
       "      <td>1,966.9440</td>\n",
       "      <td>124.800</td>\n",
       "    </tr>\n",
       "    <tr>\n",
       "      <th>818</th>\n",
       "      <td>4/30/2021 12:00:00 AM</td>\n",
       "      <td>1,736.1121</td>\n",
       "      <td>128.640</td>\n",
       "    </tr>\n",
       "    <tr>\n",
       "      <th>820</th>\n",
       "      <td>5/1/2021 12:00:00 AM</td>\n",
       "      <td>1,674.6960</td>\n",
       "      <td>127.680</td>\n",
       "    </tr>\n",
       "    <tr>\n",
       "      <th>822</th>\n",
       "      <td>5/2/2021 12:00:00 AM</td>\n",
       "      <td>1,760.7360</td>\n",
       "      <td>107.520</td>\n",
       "    </tr>\n",
       "    <tr>\n",
       "      <th>824</th>\n",
       "      <td>5/3/2021 12:00:00 AM</td>\n",
       "      <td>1,938.4561</td>\n",
       "      <td>118.080</td>\n",
       "    </tr>\n",
       "  </tbody>\n",
       "</table>\n",
       "<p>488 rows × 3 columns</p>\n",
       "</div>"
      ],
      "text/plain": [
       "                 Read Date   pearl_kWh  pearl_kW\n",
       "0     1/1/2020 12:00:00 AM  1,439.9760    80.640\n",
       "1     1/2/2020 12:00:00 AM  1,325.8080    68.064\n",
       "2     1/4/2020 12:00:00 AM  1,340.0880    71.040\n",
       "3     1/5/2020 12:00:00 AM  1,432.7040    69.120\n",
       "4     1/6/2020 12:00:00 AM  1,570.9921   101.760\n",
       "..                     ...         ...       ...\n",
       "816  4/29/2021 12:00:00 AM  1,966.9440   124.800\n",
       "818  4/30/2021 12:00:00 AM  1,736.1121   128.640\n",
       "820   5/1/2021 12:00:00 AM  1,674.6960   127.680\n",
       "822   5/2/2021 12:00:00 AM  1,760.7360   107.520\n",
       "824   5/3/2021 12:00:00 AM  1,938.4561   118.080\n",
       "\n",
       "[488 rows x 3 columns]"
      ]
     },
     "execution_count": 11,
     "metadata": {},
     "output_type": "execute_result"
    }
   ],
   "source": [
    "pearl = pd.read_csv(\"pearl_daily.csv\")\n",
    "rename_cols(pearl,\"pearl\")\n",
    "pearl = pearl[pearl.pearl_kW.notnull()]\n",
    "pearl"
   ]
  },
  {
   "cell_type": "code",
   "execution_count": 12,
   "metadata": {},
   "outputs": [
    {
     "data": {
      "image/png": "[encoded data removed]",
      "text/plain": [
       "<Figure size 432x288 with 1 Axes>"
      ]
     },
     "metadata": {
      "needs_background": "light"
     },
     "output_type": "display_data"
    }
   ],
   "source": [
    "plot_daily_data(pearl)"
   ]
  },
  {
   "cell_type": "code",
   "execution_count": 13,
   "metadata": {},
   "outputs": [
    {
     "data": {
      "text/html": [
       "<div>\n",
       "<style scoped>\n",
       "    .dataframe tbody tr th:only-of-type {\n",
       "        vertical-align: middle;\n",
       "    }\n",
       "\n",
       "    .dataframe tbody tr th {\n",
       "        vertical-align: top;\n",
       "    }\n",
       "\n",
       "    .dataframe thead th {\n",
       "        text-align: right;\n",
       "    }\n",
       "</style>\n",
       "<table border=\"1\" class=\"dataframe\">\n",
       "  <thead>\n",
       "    <tr style=\"text-align: right;\">\n",
       "      <th></th>\n",
       "      <th>Read Date</th>\n",
       "      <th>jvac_kWh</th>\n",
       "      <th>jvac_kW</th>\n",
       "    </tr>\n",
       "  </thead>\n",
       "  <tbody>\n",
       "    <tr>\n",
       "      <th>0</th>\n",
       "      <td>1/1/2020 12:00:00 AM</td>\n",
       "      <td>385.80</td>\n",
       "      <td>29.6</td>\n",
       "    </tr>\n",
       "    <tr>\n",
       "      <th>1</th>\n",
       "      <td>1/2/2020 12:00:00 AM</td>\n",
       "      <td>343.20</td>\n",
       "      <td>21.6</td>\n",
       "    </tr>\n",
       "    <tr>\n",
       "      <th>2</th>\n",
       "      <td>1/4/2020 12:00:00 AM</td>\n",
       "      <td>346.00</td>\n",
       "      <td>18.4</td>\n",
       "    </tr>\n",
       "    <tr>\n",
       "      <th>3</th>\n",
       "      <td>1/5/2020 12:00:00 AM</td>\n",
       "      <td>351.40</td>\n",
       "      <td>18.4</td>\n",
       "    </tr>\n",
       "    <tr>\n",
       "      <th>4</th>\n",
       "      <td>1/6/2020 12:00:00 AM</td>\n",
       "      <td>415.80</td>\n",
       "      <td>24.8</td>\n",
       "    </tr>\n",
       "    <tr>\n",
       "      <th>...</th>\n",
       "      <td>...</td>\n",
       "      <td>...</td>\n",
       "      <td>...</td>\n",
       "    </tr>\n",
       "    <tr>\n",
       "      <th>876</th>\n",
       "      <td>4/29/2021 12:00:00 AM</td>\n",
       "      <td>829.54</td>\n",
       "      <td>NaN</td>\n",
       "    </tr>\n",
       "    <tr>\n",
       "      <th>879</th>\n",
       "      <td>4/30/2021 12:00:00 AM</td>\n",
       "      <td>482.60</td>\n",
       "      <td>NaN</td>\n",
       "    </tr>\n",
       "    <tr>\n",
       "      <th>882</th>\n",
       "      <td>5/1/2021 12:00:00 AM</td>\n",
       "      <td>376.80</td>\n",
       "      <td>NaN</td>\n",
       "    </tr>\n",
       "    <tr>\n",
       "      <th>885</th>\n",
       "      <td>5/2/2021 12:00:00 AM</td>\n",
       "      <td>391.60</td>\n",
       "      <td>NaN</td>\n",
       "    </tr>\n",
       "    <tr>\n",
       "      <th>888</th>\n",
       "      <td>5/3/2021 12:00:00 AM</td>\n",
       "      <td>564.14</td>\n",
       "      <td>NaN</td>\n",
       "    </tr>\n",
       "  </tbody>\n",
       "</table>\n",
       "<p>488 rows × 3 columns</p>\n",
       "</div>"
      ],
      "text/plain": [
       "                 Read Date  jvac_kWh  jvac_kW\n",
       "0     1/1/2020 12:00:00 AM    385.80     29.6\n",
       "1     1/2/2020 12:00:00 AM    343.20     21.6\n",
       "2     1/4/2020 12:00:00 AM    346.00     18.4\n",
       "3     1/5/2020 12:00:00 AM    351.40     18.4\n",
       "4     1/6/2020 12:00:00 AM    415.80     24.8\n",
       "..                     ...       ...      ...\n",
       "876  4/29/2021 12:00:00 AM    829.54      NaN\n",
       "879  4/30/2021 12:00:00 AM    482.60      NaN\n",
       "882   5/1/2021 12:00:00 AM    376.80      NaN\n",
       "885   5/2/2021 12:00:00 AM    391.60      NaN\n",
       "888   5/3/2021 12:00:00 AM    564.14      NaN\n",
       "\n",
       "[488 rows x 3 columns]"
      ]
     },
     "execution_count": 13,
     "metadata": {},
     "output_type": "execute_result"
    }
   ],
   "source": [
    "jvac = pd.read_csv(\"jvac_daily.csv\")\n",
    "rename_cols(jvac,\"jvac\")\n",
    "jvac = jvac[jvac.jvac_kWh > 2]\n",
    "jvac"
   ]
  },
  {
   "cell_type": "code",
   "execution_count": 14,
   "metadata": {},
   "outputs": [
    {
     "data": {
      "image/png": "[encoded data removed]",
      "text/plain": [
       "<Figure size 432x288 with 1 Axes>"
      ]
     },
     "metadata": {
      "needs_background": "light"
     },
     "output_type": "display_data"
    }
   ],
   "source": [
    "plot_daily_data(jvac)"
   ]
  },
  {
   "cell_type": "code",
   "execution_count": 15,
   "metadata": {
    "scrolled": true
   },
   "outputs": [
    {
     "data": {
      "text/html": [
       "<div>\n",
       "<style scoped>\n",
       "    .dataframe tbody tr th:only-of-type {\n",
       "        vertical-align: middle;\n",
       "    }\n",
       "\n",
       "    .dataframe tbody tr th {\n",
       "        vertical-align: top;\n",
       "    }\n",
       "\n",
       "    .dataframe thead th {\n",
       "        text-align: right;\n",
       "    }\n",
       "</style>\n",
       "<table border=\"1\" class=\"dataframe\">\n",
       "  <thead>\n",
       "    <tr style=\"text-align: right;\">\n",
       "      <th></th>\n",
       "      <th>Read Date</th>\n",
       "      <th>warehouse_kWh</th>\n",
       "      <th>warehouse_kW</th>\n",
       "    </tr>\n",
       "  </thead>\n",
       "  <tbody>\n",
       "    <tr>\n",
       "      <th>0</th>\n",
       "      <td>1/1/2020 12:00:00 AM</td>\n",
       "      <td>431.9640</td>\n",
       "      <td>24.432</td>\n",
       "    </tr>\n",
       "    <tr>\n",
       "      <th>1</th>\n",
       "      <td>1/2/2020 12:00:00 AM</td>\n",
       "      <td>441.0360</td>\n",
       "      <td>23.040</td>\n",
       "    </tr>\n",
       "    <tr>\n",
       "      <th>2</th>\n",
       "      <td>1/3/2020 12:00:00 AM</td>\n",
       "      <td>2,474.0039</td>\n",
       "      <td>397.920</td>\n",
       "    </tr>\n",
       "    <tr>\n",
       "      <th>3</th>\n",
       "      <td>1/4/2020 12:00:00 AM</td>\n",
       "      <td>435.3600</td>\n",
       "      <td>28.800</td>\n",
       "    </tr>\n",
       "    <tr>\n",
       "      <th>4</th>\n",
       "      <td>1/5/2020 12:00:00 AM</td>\n",
       "      <td>432.3120</td>\n",
       "      <td>22.080</td>\n",
       "    </tr>\n",
       "    <tr>\n",
       "      <th>...</th>\n",
       "      <td>...</td>\n",
       "      <td>...</td>\n",
       "      <td>...</td>\n",
       "    </tr>\n",
       "    <tr>\n",
       "      <th>817</th>\n",
       "      <td>4/29/2021 12:00:00 AM</td>\n",
       "      <td>486.7320</td>\n",
       "      <td>45.120</td>\n",
       "    </tr>\n",
       "    <tr>\n",
       "      <th>819</th>\n",
       "      <td>4/30/2021 12:00:00 AM</td>\n",
       "      <td>369.5760</td>\n",
       "      <td>32.160</td>\n",
       "    </tr>\n",
       "    <tr>\n",
       "      <th>821</th>\n",
       "      <td>5/1/2021 12:00:00 AM</td>\n",
       "      <td>418.9200</td>\n",
       "      <td>31.680</td>\n",
       "    </tr>\n",
       "    <tr>\n",
       "      <th>823</th>\n",
       "      <td>5/2/2021 12:00:00 AM</td>\n",
       "      <td>420.8400</td>\n",
       "      <td>35.520</td>\n",
       "    </tr>\n",
       "    <tr>\n",
       "      <th>825</th>\n",
       "      <td>5/3/2021 12:00:00 AM</td>\n",
       "      <td>493.0560</td>\n",
       "      <td>36.000</td>\n",
       "    </tr>\n",
       "  </tbody>\n",
       "</table>\n",
       "<p>488 rows × 3 columns</p>\n",
       "</div>"
      ],
      "text/plain": [
       "                 Read Date warehouse_kWh  warehouse_kW\n",
       "0     1/1/2020 12:00:00 AM      431.9640        24.432\n",
       "1     1/2/2020 12:00:00 AM      441.0360        23.040\n",
       "2     1/3/2020 12:00:00 AM    2,474.0039       397.920\n",
       "3     1/4/2020 12:00:00 AM      435.3600        28.800\n",
       "4     1/5/2020 12:00:00 AM      432.3120        22.080\n",
       "..                     ...           ...           ...\n",
       "817  4/29/2021 12:00:00 AM      486.7320        45.120\n",
       "819  4/30/2021 12:00:00 AM      369.5760        32.160\n",
       "821   5/1/2021 12:00:00 AM      418.9200        31.680\n",
       "823   5/2/2021 12:00:00 AM      420.8400        35.520\n",
       "825   5/3/2021 12:00:00 AM      493.0560        36.000\n",
       "\n",
       "[488 rows x 3 columns]"
      ]
     },
     "execution_count": 15,
     "metadata": {},
     "output_type": "execute_result"
    }
   ],
   "source": [
    "warehouse = pd.read_csv(\"warehouse_daily.csv\")\n",
    "rename_cols(warehouse,\"warehouse\")\n",
    "warehouse = warehouse[warehouse.warehouse_kWh > str(2)]\n",
    "warehouse"
   ]
  },
  {
   "cell_type": "code",
   "execution_count": 16,
   "metadata": {},
   "outputs": [
    {
     "data": {
      "image/png": "[encoded data removed]",
      "text/plain": [
       "<Figure size 432x288 with 1 Axes>"
      ]
     },
     "metadata": {
      "needs_background": "light"
     },
     "output_type": "display_data"
    }
   ],
   "source": [
    "plot_daily_data(warehouse)"
   ]
  },
  {
   "cell_type": "code",
   "execution_count": 17,
   "metadata": {},
   "outputs": [
    {
     "ename": "NameError",
     "evalue": "name 'crounse' is not defined",
     "output_type": "error",
     "traceback": [
      "\u001b[0;31m---------------------------------------------------------------------------\u001b[0m",
      "\u001b[0;31mNameError\u001b[0m                                 Traceback (most recent call last)",
      "\u001b[0;32m<ipython-input-17-4c4a8a18817f>\u001b[0m in \u001b[0;36m<module>\u001b[0;34m\u001b[0m\n\u001b[0;32m----> 1\u001b[0;31m \u001b[0mjoined\u001b[0m \u001b[0;34m=\u001b[0m \u001b[0mpd\u001b[0m\u001b[0;34m.\u001b[0m\u001b[0mmerge\u001b[0m\u001b[0;34m(\u001b[0m\u001b[0mcrounse\u001b[0m\u001b[0;34m,\u001b[0m\u001b[0mwarehouse\u001b[0m\u001b[0;34m)\u001b[0m\u001b[0;34m\u001b[0m\u001b[0;34m\u001b[0m\u001b[0m\n\u001b[0m\u001b[1;32m      2\u001b[0m \u001b[0massert_string\u001b[0m\u001b[0;34m(\u001b[0m\u001b[0mjoined\u001b[0m\u001b[0;34m)\u001b[0m\u001b[0;34m\u001b[0m\u001b[0;34m\u001b[0m\u001b[0m\n",
      "\u001b[0;31mNameError\u001b[0m: name 'crounse' is not defined"
     ]
    }
   ],
   "source": [
    "joined = pd.merge(crounse,warehouse)\n",
    "assert_string(joined)"
   ]
  },
  {
   "cell_type": "code",
   "execution_count": null,
   "metadata": {
    "scrolled": true
   },
   "outputs": [],
   "source": [
    "new_join = pd.merge(joined,olin,how=\"outer\")\n",
    "new_join"
   ]
  },
  {
   "cell_type": "code",
   "execution_count": null,
   "metadata": {},
   "outputs": [],
   "source": [
    "final_join = pd.merge(new_join,old_centre,how=\"outer\")\n",
    "final_join"
   ]
  },
  {
   "cell_type": "code",
   "execution_count": null,
   "metadata": {},
   "outputs": [],
   "source": [
    "new = pd.merge(jvac,joined)\n",
    "new.head()"
   ]
  },
  {
   "cell_type": "code",
   "execution_count": null,
   "metadata": {},
   "outputs": [],
   "source": []
  }
 ],
 "metadata": {
  "kernelspec": {
   "display_name": "Python 3",
   "language": "python",
   "name": "python3"
  },
  "language_info": {
   "codemirror_mode": {
    "name": "ipython",
    "version": 3
   },
   "file_extension": ".py",
   "mimetype": "text/x-python",
   "name": "python",
   "nbconvert_exporter": "python",
   "pygments_lexer": "ipython3",
   "version": "3.8.5"
  }
 },
 "nbformat": 4,
 "nbformat_minor": 5
}
